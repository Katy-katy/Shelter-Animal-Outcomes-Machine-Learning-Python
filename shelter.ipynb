{
 "cells": [
  {
   "cell_type": "markdown",
   "metadata": {},
   "source": [
    " ## Project \"Shelter Animal Outcomes\""
   ]
  },
  {
   "cell_type": "markdown",
   "metadata": {},
   "source": [
    "This project was written for a Kaggle competition:\n",
    "https://www.kaggle.com/c/shelter-animal-outcomes/data\n",
    "Our goal was to predict the outcome of the animal as they leave the Animal Center.. We use the date comes from Austin Animal Center (October 1st, 2013 - March, 2016). Outcomes represent the status of animals as they leave the Animal Center. \n",
    "\n",
    "The first look at the data:"
   ]
  },
  {
   "cell_type": "code",
   "execution_count": 1,
   "metadata": {
    "collapsed": false,
    "scrolled": true
   },
   "outputs": [
    {
     "data": {
      "text/html": [
       "<div>\n",
       "<table border=\"1\" class=\"dataframe\">\n",
       "  <thead>\n",
       "    <tr style=\"text-align: right;\">\n",
       "      <th></th>\n",
       "      <th>AnimalID</th>\n",
       "      <th>Name</th>\n",
       "      <th>DateTime</th>\n",
       "      <th>OutcomeType</th>\n",
       "      <th>OutcomeSubtype</th>\n",
       "      <th>AnimalType</th>\n",
       "      <th>SexuponOutcome</th>\n",
       "      <th>AgeuponOutcome</th>\n",
       "      <th>Breed</th>\n",
       "      <th>Color</th>\n",
       "    </tr>\n",
       "  </thead>\n",
       "  <tbody>\n",
       "    <tr>\n",
       "      <th>0</th>\n",
       "      <td>A671945</td>\n",
       "      <td>Hambone</td>\n",
       "      <td>2014-02-12 18:22:00</td>\n",
       "      <td>Return_to_owner</td>\n",
       "      <td>NaN</td>\n",
       "      <td>Dog</td>\n",
       "      <td>Neutered Male</td>\n",
       "      <td>1 year</td>\n",
       "      <td>Shetland Sheepdog Mix</td>\n",
       "      <td>Brown/White</td>\n",
       "    </tr>\n",
       "    <tr>\n",
       "      <th>1</th>\n",
       "      <td>A656520</td>\n",
       "      <td>Emily</td>\n",
       "      <td>2013-10-13 12:44:00</td>\n",
       "      <td>Euthanasia</td>\n",
       "      <td>Suffering</td>\n",
       "      <td>Cat</td>\n",
       "      <td>Spayed Female</td>\n",
       "      <td>1 year</td>\n",
       "      <td>Domestic Shorthair Mix</td>\n",
       "      <td>Cream Tabby</td>\n",
       "    </tr>\n",
       "    <tr>\n",
       "      <th>2</th>\n",
       "      <td>A686464</td>\n",
       "      <td>Pearce</td>\n",
       "      <td>2015-01-31 12:28:00</td>\n",
       "      <td>Adoption</td>\n",
       "      <td>Foster</td>\n",
       "      <td>Dog</td>\n",
       "      <td>Neutered Male</td>\n",
       "      <td>2 years</td>\n",
       "      <td>Pit Bull Mix</td>\n",
       "      <td>Blue/White</td>\n",
       "    </tr>\n",
       "    <tr>\n",
       "      <th>3</th>\n",
       "      <td>A683430</td>\n",
       "      <td>NaN</td>\n",
       "      <td>2014-07-11 19:09:00</td>\n",
       "      <td>Transfer</td>\n",
       "      <td>Partner</td>\n",
       "      <td>Cat</td>\n",
       "      <td>Intact Male</td>\n",
       "      <td>3 weeks</td>\n",
       "      <td>Domestic Shorthair Mix</td>\n",
       "      <td>Blue Cream</td>\n",
       "    </tr>\n",
       "    <tr>\n",
       "      <th>4</th>\n",
       "      <td>A667013</td>\n",
       "      <td>NaN</td>\n",
       "      <td>2013-11-15 12:52:00</td>\n",
       "      <td>Transfer</td>\n",
       "      <td>Partner</td>\n",
       "      <td>Dog</td>\n",
       "      <td>Neutered Male</td>\n",
       "      <td>2 years</td>\n",
       "      <td>Lhasa Apso/Miniature Poodle</td>\n",
       "      <td>Tan</td>\n",
       "    </tr>\n",
       "  </tbody>\n",
       "</table>\n",
       "</div>"
      ],
      "text/plain": [
       "  AnimalID     Name             DateTime      OutcomeType OutcomeSubtype  \\\n",
       "0  A671945  Hambone  2014-02-12 18:22:00  Return_to_owner            NaN   \n",
       "1  A656520    Emily  2013-10-13 12:44:00       Euthanasia      Suffering   \n",
       "2  A686464   Pearce  2015-01-31 12:28:00         Adoption         Foster   \n",
       "3  A683430      NaN  2014-07-11 19:09:00         Transfer        Partner   \n",
       "4  A667013      NaN  2013-11-15 12:52:00         Transfer        Partner   \n",
       "\n",
       "  AnimalType SexuponOutcome AgeuponOutcome                        Breed  \\\n",
       "0        Dog  Neutered Male         1 year        Shetland Sheepdog Mix   \n",
       "1        Cat  Spayed Female         1 year       Domestic Shorthair Mix   \n",
       "2        Dog  Neutered Male        2 years                 Pit Bull Mix   \n",
       "3        Cat    Intact Male        3 weeks       Domestic Shorthair Mix   \n",
       "4        Dog  Neutered Male        2 years  Lhasa Apso/Miniature Poodle   \n",
       "\n",
       "         Color  \n",
       "0  Brown/White  \n",
       "1  Cream Tabby  \n",
       "2   Blue/White  \n",
       "3   Blue Cream  \n",
       "4          Tan  "
      ]
     },
     "execution_count": 1,
     "metadata": {},
     "output_type": "execute_result"
    }
   ],
   "source": [
    "import pandas\n",
    "data = pandas.read_csv(\"train.csv\")\n",
    "data.head()\n"
   ]
  },
  {
   "cell_type": "code",
   "execution_count": 2,
   "metadata": {
    "collapsed": true
   },
   "outputs": [],
   "source": [
    "data = data[data[\"OutcomeType\"] != \"NaN\"]\n",
    "data['AnimalType'] =data['AnimalType'].fillna(\"Dog\")\n",
    "data['Breed'] =data['Breed'].fillna(\"Mix\")\n",
    "data['SexuponOutcome'] =data['SexuponOutcome'].fillna(\"Neutered Male\")"
   ]
  },
  {
   "cell_type": "markdown",
   "metadata": {},
   "source": [
    "We do not need AnimalId, Color, DateTime, and OutcomeSubtype."
   ]
  },
  {
   "cell_type": "code",
   "execution_count": 3,
   "metadata": {
    "collapsed": false
   },
   "outputs": [],
   "source": [
    "del data[\"AnimalID\"]\n",
    "del data[\"DateTime\"]\n",
    "del data[\"OutcomeSubtype\"]\n",
    "del data[\"Color\"]"
   ]
  },
  {
   "cell_type": "markdown",
   "metadata": {},
   "source": [
    "We have 5 different outcomes. Let's plot the distributions of outcomes"
   ]
  },
  {
   "cell_type": "code",
   "execution_count": 4,
   "metadata": {
    "collapsed": false
   },
   "outputs": [
    {
     "name": "stderr",
     "output_type": "stream",
     "text": [
      "/Users/kate/anaconda/lib/python3.4/site-packages/matplotlib/__init__.py:872: UserWarning: axes.color_cycle is deprecated and replaced with axes.prop_cycle; please use the latter.\n",
      "  warnings.warn(self.msg_depr % (key, alt_key))\n"
     ]
    },
    {
     "data": {
      "text/plain": [
       "<matplotlib.axes._subplots.AxesSubplot at 0x11999ca58>"
      ]
     },
     "execution_count": 4,
     "metadata": {},
     "output_type": "execute_result"
    },
    {
     "data": {
      "image/png": "[encoded data removed]",
      "text/plain": [
       "<matplotlib.figure.Figure at 0x119911710>"
      ]
     },
     "metadata": {},
     "output_type": "display_data"
    }
   ],
   "source": [
    "import seaborn as sns\n",
    "%matplotlib inline\n",
    "sns.countplot(data.OutcomeType, palette='Set3')"
   ]
  },
  {
   "cell_type": "markdown",
   "metadata": {},
   "source": [
    "Now let's plot the outcomes by sex"
   ]
  },
  {
   "cell_type": "code",
   "execution_count": 5,
   "metadata": {
    "collapsed": false
   },
   "outputs": [
    {
     "data": {
      "text/plain": [
       "<matplotlib.axes._subplots.AxesSubplot at 0x119a403c8>"
      ]
     },
     "execution_count": 5,
     "metadata": {},
     "output_type": "execute_result"
    },
    {
     "data": {
      "image/png": "[encoded data removed]",
      "text/plain": [
       "<matplotlib.figure.Figure at 0x119e7d7b8>"
      ]
     },
     "metadata": {},
     "output_type": "display_data"
    }
   ],
   "source": [
    "sns.countplot(data=data, x='OutcomeType',hue='SexuponOutcome', palette=\"Set3\")"
   ]
  },
  {
   "cell_type": "markdown",
   "metadata": {},
   "source": [
    "Thus plot gives us some interesting information:\n",
    "Neutered Male and Spayed Female have a great chance to be adopted, but it is very hard to find new family for Intact Male and Intact Female! \n",
    "\n",
    "The next observation is that we do not know some animals' names. I think, animals with known name should be more likely to returnee home since we can suggest that these animals has an ID tag. Thus, can replace known name by 1 and unknown name by 0. We also should replace strings in \"AnimalType\" by numeric values."
   ]
  },
  {
   "cell_type": "code",
   "execution_count": 6,
   "metadata": {
    "collapsed": false
   },
   "outputs": [
    {
     "name": "stdout",
     "output_type": "stream",
     "text": [
      "['Dog' 'Cat']\n"
     ]
    }
   ],
   "source": [
    "data['Name'] =data['Name'].fillna(0)\n",
    "data.loc[data['Name'] != 0, \"Name\"] = 1\n",
    "\n",
    "print(data[\"AnimalType\"].unique())\n",
    "data.loc[data[\"AnimalType\"]== \"Dog\", \"AnimalType\"] = 1\n",
    "data.loc[data[\"AnimalType\"]!= 1, \"AnimalType\"] = 0"
   ]
  },
  {
   "cell_type": "code",
   "execution_count": 7,
   "metadata": {
    "collapsed": false
   },
   "outputs": [
    {
     "data": {
      "text/plain": [
       "<matplotlib.axes._subplots.AxesSubplot at 0x114c207f0>"
      ]
     },
     "execution_count": 7,
     "metadata": {},
     "output_type": "execute_result"
    },
    {
     "data": {
      "image/png": "[encoded data removed]",
      "text/plain": [
       "<matplotlib.figure.Figure at 0x119e92eb8>"
      ]
     },
     "metadata": {},
     "output_type": "display_data"
    }
   ],
   "source": [
    "sns.countplot(data=data, x='OutcomeType',hue='Name', palette=\"Set3\")"
   ]
  },
  {
   "cell_type": "markdown",
   "metadata": {},
   "source": [
    "This graph shows how important is for an animal to have an ID tag (I think that the shelter staff learned the names from the tags. The animals with unknown names have almost no chance to return to owners and have less chance to be adopted."
   ]
  },
  {
   "cell_type": "markdown",
   "metadata": {},
   "source": [
    "Now let's convert age into a float:"
   ]
  },
  {
   "cell_type": "code",
   "execution_count": 8,
   "metadata": {
    "collapsed": false
   },
   "outputs": [
    {
     "data": {
      "text/html": [
       "<div>\n",
       "<table border=\"1\" class=\"dataframe\">\n",
       "  <thead>\n",
       "    <tr style=\"text-align: right;\">\n",
       "      <th></th>\n",
       "      <th>Name</th>\n",
       "      <th>OutcomeType</th>\n",
       "      <th>AnimalType</th>\n",
       "      <th>SexuponOutcome</th>\n",
       "      <th>AgeuponOutcome</th>\n",
       "      <th>Breed</th>\n",
       "    </tr>\n",
       "  </thead>\n",
       "  <tbody>\n",
       "    <tr>\n",
       "      <th>0</th>\n",
       "      <td>1</td>\n",
       "      <td>Return_to_owner</td>\n",
       "      <td>1</td>\n",
       "      <td>Neutered Male</td>\n",
       "      <td>1.000000</td>\n",
       "      <td>Shetland Sheepdog Mix</td>\n",
       "    </tr>\n",
       "    <tr>\n",
       "      <th>1</th>\n",
       "      <td>1</td>\n",
       "      <td>Euthanasia</td>\n",
       "      <td>0</td>\n",
       "      <td>Spayed Female</td>\n",
       "      <td>1.000000</td>\n",
       "      <td>Domestic Shorthair Mix</td>\n",
       "    </tr>\n",
       "    <tr>\n",
       "      <th>2</th>\n",
       "      <td>1</td>\n",
       "      <td>Adoption</td>\n",
       "      <td>1</td>\n",
       "      <td>Neutered Male</td>\n",
       "      <td>2.000000</td>\n",
       "      <td>Pit Bull Mix</td>\n",
       "    </tr>\n",
       "    <tr>\n",
       "      <th>3</th>\n",
       "      <td>0</td>\n",
       "      <td>Transfer</td>\n",
       "      <td>0</td>\n",
       "      <td>Intact Male</td>\n",
       "      <td>0.055556</td>\n",
       "      <td>Domestic Shorthair Mix</td>\n",
       "    </tr>\n",
       "    <tr>\n",
       "      <th>4</th>\n",
       "      <td>0</td>\n",
       "      <td>Transfer</td>\n",
       "      <td>1</td>\n",
       "      <td>Neutered Male</td>\n",
       "      <td>2.000000</td>\n",
       "      <td>Lhasa Apso/Miniature Poodle</td>\n",
       "    </tr>\n",
       "  </tbody>\n",
       "</table>\n",
       "</div>"
      ],
      "text/plain": [
       "  Name      OutcomeType AnimalType SexuponOutcome  AgeuponOutcome  \\\n",
       "0    1  Return_to_owner          1  Neutered Male        1.000000   \n",
       "1    1       Euthanasia          0  Spayed Female        1.000000   \n",
       "2    1         Adoption          1  Neutered Male        2.000000   \n",
       "3    0         Transfer          0    Intact Male        0.055556   \n",
       "4    0         Transfer          1  Neutered Male        2.000000   \n",
       "\n",
       "                         Breed  \n",
       "0        Shetland Sheepdog Mix  \n",
       "1       Domestic Shorthair Mix  \n",
       "2                 Pit Bull Mix  \n",
       "3       Domestic Shorthair Mix  \n",
       "4  Lhasa Apso/Miniature Poodle  "
      ]
     },
     "execution_count": 8,
     "metadata": {},
     "output_type": "execute_result"
    }
   ],
   "source": [
    "def age_as_float(x):\n",
    "    x = str(x)\n",
    "    x_list = x.split(\" \")\n",
    "    if len(x_list)==2:\n",
    "        if x_list[1] =='year': return 1.0\n",
    "        elif x_list[1] =='years': return float(x_list[0])\n",
    "        elif x_list[1] =='month': return float(x_list[0])/12\n",
    "        elif x_list[1] =='months': return float(x_list[0])/12\n",
    "        elif x_list[1] =='week': return float(x_list[0])\n",
    "        elif x_list[1] =='weeks': return float(x_list[0])/54\n",
    "        elif x_list[1] =='days': return float(x_list[0])/365\n",
    "        else: return 0\n",
    "    else:return 0\n",
    "\n",
    "data['AgeuponOutcome'] = data.AgeuponOutcome.apply(age_as_float)\n",
    "#now we have 0 age for the animals with undefined age. Let's replace 0 by mean age:\n",
    "data.loc[data['AgeuponOutcome']== 0, \"AgeuponOutcome\"] = data['AgeuponOutcome'].median()\n",
    "data.head()"
   ]
  },
  {
   "cell_type": "markdown",
   "metadata": {},
   "source": [
    "Now let's think about SexuponOutcome and Breed columns."
   ]
  },
  {
   "cell_type": "code",
   "execution_count": 9,
   "metadata": {
    "collapsed": false
   },
   "outputs": [
    {
     "data": {
      "text/plain": [
       "1380"
      ]
     },
     "execution_count": 9,
     "metadata": {},
     "output_type": "execute_result"
    }
   ],
   "source": [
    "len(data[\"Breed\"].unique())"
   ]
  },
  {
   "cell_type": "code",
   "execution_count": 10,
   "metadata": {
    "collapsed": false
   },
   "outputs": [
    {
     "data": {
      "text/plain": [
       "array(['Shetland Sheepdog Mix', 'Domestic Shorthair Mix', 'Pit Bull Mix',\n",
       "       'Lhasa Apso/Miniature Poodle', 'Cairn Terrier/Chihuahua Shorthair',\n",
       "       'American Pit Bull Terrier Mix', 'Cairn Terrier',\n",
       "       'Miniature Schnauzer Mix', 'Yorkshire Terrier Mix',\n",
       "       'Great Pyrenees Mix', 'Angora Mix', 'Flat Coat Retriever Mix',\n",
       "       'Queensland Heeler Mix', 'Plott Hound/Boxer', 'German Shepherd Mix',\n",
       "       'American Staffordshire Terrier Mix', 'Chihuahua Shorthair Mix',\n",
       "       'Russian Blue Mix', 'Labrador Retriever Mix',\n",
       "       'Collie Smooth/German Shepherd', 'Domestic Longhair Mix', 'Beagle',\n",
       "       'Pit Bull/Labrador Retriever', 'Blue Lacy Mix',\n",
       "       'Black Mouth Cur Mix', 'Dachshund/Beagle', 'Dachshund Mix',\n",
       "       'Maltese Mix', 'Pointer Mix', 'English Foxhound', 'Vizsla Mix',\n",
       "       'German Shepherd/Great Pyrenees',\n",
       "       'Cardigan Welsh Corgi/Chihuahua Shorthair', 'Domestic Longhair',\n",
       "       'Chow Chow/Pit Bull', 'Chihuahua Shorthair', 'Siamese Mix',\n",
       "       'Domestic Medium Hair Mix', 'Plott Hound Mix', 'Boxer/Great Dane',\n",
       "       'Lhasa Apso', 'Beagle/Treeing Walker Coonhound',\n",
       "       'Border Collie Mix', 'Border Terrier Mix', 'Boxer Mix',\n",
       "       'Cairn Terrier Mix', 'Dogo Argentino Mix', 'Beagle Mix',\n",
       "       'Chihuahua Shorthair/Dachshund',\n",
       "       'Miniature Schnauzer/Miniature Poodle'], dtype=object)"
      ]
     },
     "execution_count": 10,
     "metadata": {},
     "output_type": "execute_result"
    }
   ],
   "source": [
    "data[\"Breed\"].unique()[ :50]"
   ]
  },
  {
   "cell_type": "markdown",
   "metadata": {},
   "source": [
    "Very few animals have a pure breed (for example'Cairn Terrier') and a lot of animals are mix. Let's replace all variations of mix by \"Mix\""
   ]
  },
  {
   "cell_type": "code",
   "execution_count": 11,
   "metadata": {
    "collapsed": false
   },
   "outputs": [
    {
     "name": "stdout",
     "output_type": "stream",
     "text": [
      "140\n"
     ]
    }
   ],
   "source": [
    "def mix(x):\n",
    "    x = str(x)\n",
    "    if x.find('Mix')> -1 or x.find('mix')> -1 or x.find(\"/\") > -1: return \"Mix\"\n",
    "    else: return x\n",
    "data['Breed'] = data.Breed.apply(mix)\n",
    "print(len(data[\"Breed\"].unique()))"
   ]
  },
  {
   "cell_type": "code",
   "execution_count": 12,
   "metadata": {
    "collapsed": false
   },
   "outputs": [
    {
     "name": "stdout",
     "output_type": "stream",
     "text": [
      "[1 'Cairn Terrier' 'Beagle' 'English Foxhound' 'Domestic Longhair'\n",
      " 'Chihuahua Shorthair' 'Lhasa Apso' 'Pit Bull' 'Dachshund Longhair'\n",
      " 'Maltese' 'Siberian Husky' 'Great Dane' 'Chesa Bay Retr' 'German Shepherd'\n",
      " 'English Pointer' 'Cocker Spaniel' 'Domestic Shorthair' 'Shih Tzu'\n",
      " 'Dachshund' 'Anatol Shepherd' 'Labrador Retriever' 'English Bulldog'\n",
      " 'Basset Hound' 'Boxer' 'Miniature Poodle' 'Doberman Pinsch' 'Harrier'\n",
      " 'Burmese' 'Domestic Medium Hair' 'Border Collie' 'Vizsla'\n",
      " 'Yorkshire Terrier' 'Bull Terrier' 'Jack Russell Terrier' 'Pekingese'\n",
      " 'American Pit Bull Terrier' 'Miniature Schnauzer' 'Rottweiler'\n",
      " 'Great Pyrenees' 'Australian Shepherd' 'Greyhound' 'Bernese Mountain Dog'\n",
      " 'Chihuahua Longhair' 'Pembroke Welsh Corgi' 'Australian Cattle Dog'\n",
      " 'Shetland Sheepdog' 'Weimaraner' 'Miniature Pinscher' 'Boston Terrier'\n",
      " 'Siamese' 'Carolina Dog' 'Golden Retriever' 'Pug' 'Dogo Argentino'\n",
      " 'Cavalier Span' 'Staffordshire' 'Rat Terrier' 'Akita' 'Chow Chow'\n",
      " 'American Foxhound' 'Dachshund Wirehair' 'Parson Russell Terrier' 'Bengal'\n",
      " 'Dalmatian' 'Old English Sheepdog' 'American Bulldog' 'Catahoula'\n",
      " 'Chinese Sharpei' 'Plott Hound' 'German Shorthair Pointer'\n",
      " 'Rhod Ridgeback' 'British Shorthair' 'Bichon Frise' 'Pomeranian'\n",
      " 'West Highland' 'Treeing Tennesse Brindle' 'Standard Poodle'\n",
      " 'Italian Greyhound' 'English Springer Spaniel' 'Pointer' 'Havanese'\n",
      " 'Australian Kelpie' 'American Staffordshire Terrier'\n",
      " 'Soft Coated Wheaten Terrier' 'Cane Corso' 'Standard Schnauzer'\n",
      " 'Bloodhound' 'Belgian Sheepdog' 'Pbgv' 'Leonberger'\n",
      " 'Welsh Springer Spaniel' 'Bruss Griffon' 'Bull Terrier Miniature'\n",
      " 'Wire Hair Fox Terrier' 'Shiba Inu' 'St. Bernard Smooth Coat' 'Toy Poodle'\n",
      " 'Sphynx' 'Border Terrier' 'Black Mouth Cur' 'American Eskimo'\n",
      " 'Airedale Terrier' 'Collie Rough' 'Collie Smooth' 'Maine Coon'\n",
      " 'Tibetan Spaniel' 'Himalayan' 'Nova Scotia Duck Tolling Retriever'\n",
      " 'Norfolk Terrier' 'Papillon' 'Queensland Heeler' 'Saluki' 'Bullmastiff'\n",
      " 'Devon Rex' 'Blue Lacy' 'Manx' 'Presa Canario' 'Bulldog' 'Brittany'\n",
      " 'Snowshoe' 'German Wirehaired Pointer' 'Persian' 'Boerboel'\n",
      " 'Pharaoh Hound' 'English Shepherd' 'Dutch Shepherd' 'Japanese Chin'\n",
      " 'Russian Blue' 'Cardigan Welsh Corgi' 'Finnish Spitz' 'Bluetick Hound'\n",
      " 'French Bulldog' 'Belgian Malinois' 'Alaskan Husky' 'Keeshond'\n",
      " 'St. Bernard Rough Coat' 'Ragdoll' 'Redbone Hound' 'Alaskan Malamute'\n",
      " 'Beauceron']\n",
      "[1 0]\n"
     ]
    }
   ],
   "source": [
    "#140 is too much! \n",
    "#let's Mis breed will be 1 and pure breeds will be 0\n",
    "data.loc[data[\"Breed\"]== \"Mix\", \"Breed\"] = 1\n",
    "print(data[\"Breed\"].unique())\n",
    "data.loc[data[\"Breed\"]!= 1, \"Breed\"] = 0\n",
    "print(data[\"Breed\"].unique())"
   ]
  },
  {
   "cell_type": "code",
   "execution_count": 13,
   "metadata": {
    "collapsed": false
   },
   "outputs": [
    {
     "data": {
      "text/plain": [
       "<matplotlib.axes._subplots.AxesSubplot at 0x114cf5438>"
      ]
     },
     "execution_count": 13,
     "metadata": {},
     "output_type": "execute_result"
    },
    {
     "data": {
      "image/png": "[encoded data removed]",
      "text/plain": [
       "<matplotlib.figure.Figure at 0x114cfc080>"
      ]
     },
     "metadata": {},
     "output_type": "display_data"
    }
   ],
   "source": [
    "sns.countplot(data=data, x='OutcomeType',hue='Breed', palette=\"Set3\")"
   ]
  },
  {
   "cell_type": "markdown",
   "metadata": {},
   "source": [
    "It looks like the proportion of pure and mix breeds are about the same for all categories of outcome."
   ]
  },
  {
   "cell_type": "code",
   "execution_count": 14,
   "metadata": {
    "collapsed": false,
    "scrolled": true
   },
   "outputs": [
    {
     "data": {
      "text/html": [
       "<div>\n",
       "<table border=\"1\" class=\"dataframe\">\n",
       "  <thead>\n",
       "    <tr style=\"text-align: right;\">\n",
       "      <th></th>\n",
       "      <th>Name</th>\n",
       "      <th>OutcomeType</th>\n",
       "      <th>AnimalType</th>\n",
       "      <th>AgeuponOutcome</th>\n",
       "      <th>Breed</th>\n",
       "      <th>SexuponOutcome_Intact Female</th>\n",
       "      <th>SexuponOutcome_Intact Male</th>\n",
       "      <th>SexuponOutcome_Neutered Male</th>\n",
       "      <th>SexuponOutcome_Spayed Female</th>\n",
       "      <th>SexuponOutcome_Unknown</th>\n",
       "    </tr>\n",
       "  </thead>\n",
       "  <tbody>\n",
       "    <tr>\n",
       "      <th>0</th>\n",
       "      <td>1</td>\n",
       "      <td>Return_to_owner</td>\n",
       "      <td>1</td>\n",
       "      <td>1.000000</td>\n",
       "      <td>1</td>\n",
       "      <td>0</td>\n",
       "      <td>0</td>\n",
       "      <td>1</td>\n",
       "      <td>0</td>\n",
       "      <td>0</td>\n",
       "    </tr>\n",
       "    <tr>\n",
       "      <th>1</th>\n",
       "      <td>1</td>\n",
       "      <td>Euthanasia</td>\n",
       "      <td>0</td>\n",
       "      <td>1.000000</td>\n",
       "      <td>1</td>\n",
       "      <td>0</td>\n",
       "      <td>0</td>\n",
       "      <td>0</td>\n",
       "      <td>1</td>\n",
       "      <td>0</td>\n",
       "    </tr>\n",
       "    <tr>\n",
       "      <th>2</th>\n",
       "      <td>1</td>\n",
       "      <td>Adoption</td>\n",
       "      <td>1</td>\n",
       "      <td>2.000000</td>\n",
       "      <td>1</td>\n",
       "      <td>0</td>\n",
       "      <td>0</td>\n",
       "      <td>1</td>\n",
       "      <td>0</td>\n",
       "      <td>0</td>\n",
       "    </tr>\n",
       "    <tr>\n",
       "      <th>3</th>\n",
       "      <td>0</td>\n",
       "      <td>Transfer</td>\n",
       "      <td>0</td>\n",
       "      <td>0.055556</td>\n",
       "      <td>1</td>\n",
       "      <td>0</td>\n",
       "      <td>1</td>\n",
       "      <td>0</td>\n",
       "      <td>0</td>\n",
       "      <td>0</td>\n",
       "    </tr>\n",
       "    <tr>\n",
       "      <th>4</th>\n",
       "      <td>0</td>\n",
       "      <td>Transfer</td>\n",
       "      <td>1</td>\n",
       "      <td>2.000000</td>\n",
       "      <td>1</td>\n",
       "      <td>0</td>\n",
       "      <td>0</td>\n",
       "      <td>1</td>\n",
       "      <td>0</td>\n",
       "      <td>0</td>\n",
       "    </tr>\n",
       "  </tbody>\n",
       "</table>\n",
       "</div>"
      ],
      "text/plain": [
       "  Name      OutcomeType AnimalType  AgeuponOutcome Breed  \\\n",
       "0    1  Return_to_owner          1        1.000000     1   \n",
       "1    1       Euthanasia          0        1.000000     1   \n",
       "2    1         Adoption          1        2.000000     1   \n",
       "3    0         Transfer          0        0.055556     1   \n",
       "4    0         Transfer          1        2.000000     1   \n",
       "\n",
       "   SexuponOutcome_Intact Female  SexuponOutcome_Intact Male  \\\n",
       "0                             0                           0   \n",
       "1                             0                           0   \n",
       "2                             0                           0   \n",
       "3                             0                           1   \n",
       "4                             0                           0   \n",
       "\n",
       "   SexuponOutcome_Neutered Male  SexuponOutcome_Spayed Female  \\\n",
       "0                             1                             0   \n",
       "1                             0                             1   \n",
       "2                             1                             0   \n",
       "3                             0                             0   \n",
       "4                             1                             0   \n",
       "\n",
       "   SexuponOutcome_Unknown  \n",
       "0                       0  \n",
       "1                       0  \n",
       "2                       0  \n",
       "3                       0  \n",
       "4                       0  "
      ]
     },
     "execution_count": 14,
     "metadata": {},
     "output_type": "execute_result"
    }
   ],
   "source": [
    "#I used tutorial from https://www.dataquest.io/learn\n",
    "def create_dummies(var):\n",
    "    var_unique = var.unique()\n",
    "    var_unique.sort()\n",
    "    dummy = pandas.DataFrame()\n",
    "    for val in var_unique:\n",
    "    #for val in var_unique[:-1]:\n",
    "        # which columns are equal to our unique value\n",
    "        d = var == val\n",
    "        # make a new column with a dummy variable\n",
    "        dummy[var.name + \"_\" + str(val)] = d.astype(int)\n",
    "    return(dummy)\n",
    "\n",
    "sex_dummies = create_dummies(data[\"SexuponOutcome\"])\n",
    "data = pandas.concat([data, sex_dummies], axis=1)\n",
    "del data[\"SexuponOutcome\"]\n",
    "data.head()"
   ]
  },
  {
   "cell_type": "markdown",
   "metadata": {},
   "source": [
    "Now we can try multi class logistic regression to predict outcomes."
   ]
  },
  {
   "cell_type": "code",
   "execution_count": 15,
   "metadata": {
    "collapsed": false
   },
   "outputs": [],
   "source": [
    "features = ['Name','AnimalType', 'AgeuponOutcome', 'Breed',\n",
    "       'SexuponOutcome_Intact Female', 'SexuponOutcome_Intact Male',\n",
    "       'SexuponOutcome_Neutered Male', 'SexuponOutcome_Spayed Female', 'SexuponOutcome_Unknown']"
   ]
  },
  {
   "cell_type": "code",
   "execution_count": 17,
   "metadata": {
    "collapsed": false
   },
   "outputs": [
    {
     "data": {
      "text/html": [
       "<div>\n",
       "<table border=\"1\" class=\"dataframe\">\n",
       "  <thead>\n",
       "    <tr style=\"text-align: right;\">\n",
       "      <th></th>\n",
       "      <th>Name</th>\n",
       "      <th>OutcomeType</th>\n",
       "      <th>AnimalType</th>\n",
       "      <th>AgeuponOutcome</th>\n",
       "      <th>Breed</th>\n",
       "      <th>SexuponOutcome_Intact Female</th>\n",
       "      <th>SexuponOutcome_Intact Male</th>\n",
       "      <th>SexuponOutcome_Neutered Male</th>\n",
       "      <th>SexuponOutcome_Spayed Female</th>\n",
       "      <th>SexuponOutcome_Unknown</th>\n",
       "    </tr>\n",
       "  </thead>\n",
       "  <tbody>\n",
       "    <tr>\n",
       "      <th>14795</th>\n",
       "      <td>0</td>\n",
       "      <td>Adoption</td>\n",
       "      <td>1</td>\n",
       "      <td>0.500000</td>\n",
       "      <td>1</td>\n",
       "      <td>0</td>\n",
       "      <td>0</td>\n",
       "      <td>1</td>\n",
       "      <td>0</td>\n",
       "      <td>0</td>\n",
       "    </tr>\n",
       "    <tr>\n",
       "      <th>24574</th>\n",
       "      <td>0</td>\n",
       "      <td>Transfer</td>\n",
       "      <td>0</td>\n",
       "      <td>0.005479</td>\n",
       "      <td>1</td>\n",
       "      <td>0</td>\n",
       "      <td>1</td>\n",
       "      <td>0</td>\n",
       "      <td>0</td>\n",
       "      <td>0</td>\n",
       "    </tr>\n",
       "    <tr>\n",
       "      <th>5368</th>\n",
       "      <td>1</td>\n",
       "      <td>Adoption</td>\n",
       "      <td>0</td>\n",
       "      <td>8.000000</td>\n",
       "      <td>1</td>\n",
       "      <td>0</td>\n",
       "      <td>0</td>\n",
       "      <td>1</td>\n",
       "      <td>0</td>\n",
       "      <td>0</td>\n",
       "    </tr>\n",
       "    <tr>\n",
       "      <th>5984</th>\n",
       "      <td>1</td>\n",
       "      <td>Transfer</td>\n",
       "      <td>0</td>\n",
       "      <td>0.833333</td>\n",
       "      <td>1</td>\n",
       "      <td>0</td>\n",
       "      <td>0</td>\n",
       "      <td>0</td>\n",
       "      <td>1</td>\n",
       "      <td>0</td>\n",
       "    </tr>\n",
       "    <tr>\n",
       "      <th>12023</th>\n",
       "      <td>1</td>\n",
       "      <td>Transfer</td>\n",
       "      <td>0</td>\n",
       "      <td>3.000000</td>\n",
       "      <td>1</td>\n",
       "      <td>0</td>\n",
       "      <td>0</td>\n",
       "      <td>0</td>\n",
       "      <td>1</td>\n",
       "      <td>0</td>\n",
       "    </tr>\n",
       "  </tbody>\n",
       "</table>\n",
       "</div>"
      ],
      "text/plain": [
       "      Name OutcomeType AnimalType  AgeuponOutcome Breed  \\\n",
       "14795    0    Adoption          1        0.500000     1   \n",
       "24574    0    Transfer          0        0.005479     1   \n",
       "5368     1    Adoption          0        8.000000     1   \n",
       "5984     1    Transfer          0        0.833333     1   \n",
       "12023    1    Transfer          0        3.000000     1   \n",
       "\n",
       "       SexuponOutcome_Intact Female  SexuponOutcome_Intact Male  \\\n",
       "14795                             0                           0   \n",
       "24574                             0                           1   \n",
       "5368                              0                           0   \n",
       "5984                              0                           0   \n",
       "12023                             0                           0   \n",
       "\n",
       "       SexuponOutcome_Neutered Male  SexuponOutcome_Spayed Female  \\\n",
       "14795                             1                             0   \n",
       "24574                             0                             0   \n",
       "5368                              1                             0   \n",
       "5984                              0                             1   \n",
       "12023                             0                             1   \n",
       "\n",
       "       SexuponOutcome_Unknown  \n",
       "14795                       0  \n",
       "24574                       0  \n",
       "5368                        0  \n",
       "5984                        0  \n",
       "12023                       0  "
      ]
     },
     "execution_count": 17,
     "metadata": {},
     "output_type": "execute_result"
    }
   ],
   "source": [
    "import numpy as np\n",
    "# shuffle data\n",
    "shuffled_rows = np.random.permutation(data.index)\n",
    "\n",
    "# Select 70% of the dataset to be training data\n",
    "highest_train_row = int(data.shape[0] * .70)\n",
    "train = data.loc[shuffled_rows[:highest_train_row], :]\n",
    "\n",
    "# Select 30% of the dataset to be test data\n",
    "my_test = data.loc[shuffled_rows[highest_train_row:], :]\n",
    "\n",
    "train.head()"
   ]
  },
  {
   "cell_type": "code",
   "execution_count": 18,
   "metadata": {
    "collapsed": false
   },
   "outputs": [
    {
     "data": {
      "text/plain": [
       "LogisticRegression(C=1.0, class_weight=None, dual=False, fit_intercept=True,\n",
       "          intercept_scaling=1, max_iter=100, multi_class='ovr', n_jobs=1,\n",
       "          penalty='l2', random_state=1, solver='liblinear', tol=0.0001,\n",
       "          verbose=0, warm_start=False)"
      ]
     },
     "execution_count": 18,
     "metadata": {},
     "output_type": "execute_result"
    }
   ],
   "source": [
    "from sklearn import linear_model\n",
    "\n",
    "alg = linear_model.LogisticRegression(random_state=1)\n",
    "alg.fit(train[features], train[\"OutcomeType\"])"
   ]
  },
  {
   "cell_type": "code",
   "execution_count": 19,
   "metadata": {
    "collapsed": true
   },
   "outputs": [],
   "source": [
    "probs = alg.predict_proba(my_test[features])"
   ]
  },
  {
   "cell_type": "code",
   "execution_count": 20,
   "metadata": {
    "collapsed": false
   },
   "outputs": [
    {
     "name": "stdout",
     "output_type": "stream",
     "text": [
      "0.923281657861\n"
     ]
    }
   ],
   "source": [
    "from sklearn import metrics\n",
    "score = metrics.log_loss(my_test[\"OutcomeType\"], probs)\n",
    "print(score)"
   ]
  },
  {
   "cell_type": "markdown",
   "metadata": {},
   "source": [
    "Not bad. Now let's create a prediction for text.csv and submit it for Kagle competition. "
   ]
  },
  {
   "cell_type": "code",
   "execution_count": 21,
   "metadata": {
    "collapsed": false
   },
   "outputs": [
    {
     "data": {
      "text/html": [
       "<div>\n",
       "<table border=\"1\" class=\"dataframe\">\n",
       "  <thead>\n",
       "    <tr style=\"text-align: right;\">\n",
       "      <th></th>\n",
       "      <th>ID</th>\n",
       "      <th>Name</th>\n",
       "      <th>AnimalType</th>\n",
       "      <th>AgeuponOutcome</th>\n",
       "      <th>Breed</th>\n",
       "      <th>SexuponOutcome_Intact Female</th>\n",
       "      <th>SexuponOutcome_Intact Male</th>\n",
       "      <th>SexuponOutcome_Neutered Male</th>\n",
       "      <th>SexuponOutcome_Spayed Female</th>\n",
       "      <th>SexuponOutcome_Unknown</th>\n",
       "    </tr>\n",
       "  </thead>\n",
       "  <tbody>\n",
       "    <tr>\n",
       "      <th>0</th>\n",
       "      <td>1</td>\n",
       "      <td>1</td>\n",
       "      <td>1</td>\n",
       "      <td>0.833333</td>\n",
       "      <td>0</td>\n",
       "      <td>1</td>\n",
       "      <td>0</td>\n",
       "      <td>0</td>\n",
       "      <td>0</td>\n",
       "      <td>0</td>\n",
       "    </tr>\n",
       "    <tr>\n",
       "      <th>1</th>\n",
       "      <td>2</td>\n",
       "      <td>1</td>\n",
       "      <td>1</td>\n",
       "      <td>2.000000</td>\n",
       "      <td>0</td>\n",
       "      <td>0</td>\n",
       "      <td>0</td>\n",
       "      <td>0</td>\n",
       "      <td>1</td>\n",
       "      <td>0</td>\n",
       "    </tr>\n",
       "    <tr>\n",
       "      <th>2</th>\n",
       "      <td>3</td>\n",
       "      <td>1</td>\n",
       "      <td>0</td>\n",
       "      <td>1.000000</td>\n",
       "      <td>0</td>\n",
       "      <td>0</td>\n",
       "      <td>0</td>\n",
       "      <td>1</td>\n",
       "      <td>0</td>\n",
       "      <td>0</td>\n",
       "    </tr>\n",
       "    <tr>\n",
       "      <th>3</th>\n",
       "      <td>4</td>\n",
       "      <td>1</td>\n",
       "      <td>1</td>\n",
       "      <td>0.333333</td>\n",
       "      <td>0</td>\n",
       "      <td>0</td>\n",
       "      <td>1</td>\n",
       "      <td>0</td>\n",
       "      <td>0</td>\n",
       "      <td>0</td>\n",
       "    </tr>\n",
       "    <tr>\n",
       "      <th>4</th>\n",
       "      <td>5</td>\n",
       "      <td>1</td>\n",
       "      <td>1</td>\n",
       "      <td>2.000000</td>\n",
       "      <td>0</td>\n",
       "      <td>0</td>\n",
       "      <td>0</td>\n",
       "      <td>1</td>\n",
       "      <td>0</td>\n",
       "      <td>0</td>\n",
       "    </tr>\n",
       "  </tbody>\n",
       "</table>\n",
       "</div>"
      ],
      "text/plain": [
       "   ID Name AnimalType  AgeuponOutcome Breed  SexuponOutcome_Intact Female  \\\n",
       "0   1    1          1        0.833333     0                             1   \n",
       "1   2    1          1        2.000000     0                             0   \n",
       "2   3    1          0        1.000000     0                             0   \n",
       "3   4    1          1        0.333333     0                             0   \n",
       "4   5    1          1        2.000000     0                             0   \n",
       "\n",
       "   SexuponOutcome_Intact Male  SexuponOutcome_Neutered Male  \\\n",
       "0                           0                             0   \n",
       "1                           0                             0   \n",
       "2                           0                             1   \n",
       "3                           1                             0   \n",
       "4                           0                             1   \n",
       "\n",
       "   SexuponOutcome_Spayed Female  SexuponOutcome_Unknown  \n",
       "0                             0                       0  \n",
       "1                             1                       0  \n",
       "2                             0                       0  \n",
       "3                             0                       0  \n",
       "4                             0                       0  "
      ]
     },
     "execution_count": 21,
     "metadata": {},
     "output_type": "execute_result"
    }
   ],
   "source": [
    "test = pandas.read_csv(\"test.csv\")\n",
    "test['AnimalType'] =test['AnimalType'].fillna(\"Dog\")\n",
    "test['Breed'] =test['Breed'].fillna(\"Mix\")\n",
    "del test['Color']\n",
    "test['SexuponOutcome'] =test['SexuponOutcome'].fillna(\"Neutered Male\")\n",
    "#del test[\"ID\"]\n",
    "del test[\"DateTime\"]\n",
    "test['Name'] =test['Name'].fillna(0)\n",
    "test.loc[test['Name'] != 0, \"Name\"] = 1\n",
    "test.loc[test[\"AnimalType\"]== \"Dog\", \"AnimalType\"] = 1\n",
    "test.loc[test[\"AnimalType\"]!= 1, \"AnimalType\"] = 0\n",
    "test['AgeuponOutcome'] = test.AgeuponOutcome.apply(age_as_float)\n",
    "test.loc[test['AgeuponOutcome']== 0, \"AgeuponOutcome\"] = test['AgeuponOutcome'].median()\n",
    "test.loc[test[\"Breed\"]== \"Mix\", \"Breed\"] = 1\n",
    "test.loc[test[\"Breed\"]!= 1, \"Breed\"] = 0\n",
    "sex_dummies = create_dummies(test[\"SexuponOutcome\"])\n",
    "test = pandas.concat([test, sex_dummies], axis=1)\n",
    "del test[\"SexuponOutcome\"]\n",
    "test.head()"
   ]
  },
  {
   "cell_type": "code",
   "execution_count": 22,
   "metadata": {
    "collapsed": false
   },
   "outputs": [
    {
     "data": {
      "text/html": [
       "<div>\n",
       "<table border=\"1\" class=\"dataframe\">\n",
       "  <thead>\n",
       "    <tr style=\"text-align: right;\">\n",
       "      <th></th>\n",
       "      <th>Adoption</th>\n",
       "      <th>Died</th>\n",
       "      <th>Euthanasia</th>\n",
       "      <th>Return_to_owner</th>\n",
       "      <th>Transfer</th>\n",
       "    </tr>\n",
       "  </thead>\n",
       "  <tbody>\n",
       "    <tr>\n",
       "      <th>0</th>\n",
       "      <td>0.044719</td>\n",
       "      <td>0.017209</td>\n",
       "      <td>0.040645</td>\n",
       "      <td>0.233298</td>\n",
       "      <td>0.664129</td>\n",
       "    </tr>\n",
       "    <tr>\n",
       "      <th>1</th>\n",
       "      <td>0.528452</td>\n",
       "      <td>0.003254</td>\n",
       "      <td>0.011591</td>\n",
       "      <td>0.288949</td>\n",
       "      <td>0.167755</td>\n",
       "    </tr>\n",
       "    <tr>\n",
       "      <th>2</th>\n",
       "      <td>0.637056</td>\n",
       "      <td>0.009424</td>\n",
       "      <td>0.011609</td>\n",
       "      <td>0.071226</td>\n",
       "      <td>0.270684</td>\n",
       "    </tr>\n",
       "    <tr>\n",
       "      <th>3</th>\n",
       "      <td>0.037671</td>\n",
       "      <td>0.023269</td>\n",
       "      <td>0.045821</td>\n",
       "      <td>0.318619</td>\n",
       "      <td>0.574620</td>\n",
       "    </tr>\n",
       "    <tr>\n",
       "      <th>4</th>\n",
       "      <td>0.474270</td>\n",
       "      <td>0.003623</td>\n",
       "      <td>0.015603</td>\n",
       "      <td>0.322424</td>\n",
       "      <td>0.184080</td>\n",
       "    </tr>\n",
       "  </tbody>\n",
       "</table>\n",
       "</div>"
      ],
      "text/plain": [
       "   Adoption      Died  Euthanasia  Return_to_owner  Transfer\n",
       "0  0.044719  0.017209    0.040645         0.233298  0.664129\n",
       "1  0.528452  0.003254    0.011591         0.288949  0.167755\n",
       "2  0.637056  0.009424    0.011609         0.071226  0.270684\n",
       "3  0.037671  0.023269    0.045821         0.318619  0.574620\n",
       "4  0.474270  0.003623    0.015603         0.322424  0.184080"
      ]
     },
     "execution_count": 22,
     "metadata": {},
     "output_type": "execute_result"
    }
   ],
   "source": [
    "result = pandas.DataFrame(alg.predict_proba(test[features]), index=test.index, columns=alg.classes_)\n",
    "result.head()"
   ]
  },
  {
   "cell_type": "code",
   "execution_count": 24,
   "metadata": {
    "collapsed": false
   },
   "outputs": [
    {
     "data": {
      "text/html": [
       "<div>\n",
       "<table border=\"1\" class=\"dataframe\">\n",
       "  <thead>\n",
       "    <tr style=\"text-align: right;\">\n",
       "      <th></th>\n",
       "      <th>ID</th>\n",
       "      <th>Adoption</th>\n",
       "      <th>Died</th>\n",
       "      <th>Euthanasia</th>\n",
       "      <th>Return_to_owner</th>\n",
       "      <th>Transfer</th>\n",
       "    </tr>\n",
       "  </thead>\n",
       "  <tbody>\n",
       "    <tr>\n",
       "      <th>0</th>\n",
       "      <td>1</td>\n",
       "      <td>1</td>\n",
       "      <td>0</td>\n",
       "      <td>0</td>\n",
       "      <td>0</td>\n",
       "      <td>0</td>\n",
       "    </tr>\n",
       "    <tr>\n",
       "      <th>1</th>\n",
       "      <td>2</td>\n",
       "      <td>1</td>\n",
       "      <td>0</td>\n",
       "      <td>0</td>\n",
       "      <td>0</td>\n",
       "      <td>0</td>\n",
       "    </tr>\n",
       "    <tr>\n",
       "      <th>2</th>\n",
       "      <td>3</td>\n",
       "      <td>1</td>\n",
       "      <td>0</td>\n",
       "      <td>0</td>\n",
       "      <td>0</td>\n",
       "      <td>0</td>\n",
       "    </tr>\n",
       "    <tr>\n",
       "      <th>3</th>\n",
       "      <td>4</td>\n",
       "      <td>1</td>\n",
       "      <td>0</td>\n",
       "      <td>0</td>\n",
       "      <td>0</td>\n",
       "      <td>0</td>\n",
       "    </tr>\n",
       "    <tr>\n",
       "      <th>4</th>\n",
       "      <td>5</td>\n",
       "      <td>1</td>\n",
       "      <td>0</td>\n",
       "      <td>0</td>\n",
       "      <td>0</td>\n",
       "      <td>0</td>\n",
       "    </tr>\n",
       "  </tbody>\n",
       "</table>\n",
       "</div>"
      ],
      "text/plain": [
       "   ID  Adoption  Died  Euthanasia  Return_to_owner  Transfer\n",
       "0   1         1     0           0                0         0\n",
       "1   2         1     0           0                0         0\n",
       "2   3         1     0           0                0         0\n",
       "3   4         1     0           0                0         0\n",
       "4   5         1     0           0                0         0"
      ]
     },
     "execution_count": 24,
     "metadata": {},
     "output_type": "execute_result"
    }
   ],
   "source": [
    "sample_submission = pandas.read_csv(\"sample_submission.csv\")\n",
    "sample_submission.head()"
   ]
  },
  {
   "cell_type": "code",
   "execution_count": 27,
   "metadata": {
    "collapsed": false
   },
   "outputs": [
    {
     "data": {
      "text/html": [
       "<div>\n",
       "<table border=\"1\" class=\"dataframe\">\n",
       "  <thead>\n",
       "    <tr style=\"text-align: right;\">\n",
       "      <th></th>\n",
       "      <th>ID</th>\n",
       "      <th>Adoption</th>\n",
       "      <th>Died</th>\n",
       "      <th>Euthanasia</th>\n",
       "      <th>Return_to_owner</th>\n",
       "      <th>Transfer</th>\n",
       "    </tr>\n",
       "  </thead>\n",
       "  <tbody>\n",
       "    <tr>\n",
       "      <th>0</th>\n",
       "      <td>1</td>\n",
       "      <td>0.044719</td>\n",
       "      <td>0.017209</td>\n",
       "      <td>0.040645</td>\n",
       "      <td>0.233298</td>\n",
       "      <td>0.664129</td>\n",
       "    </tr>\n",
       "    <tr>\n",
       "      <th>1</th>\n",
       "      <td>2</td>\n",
       "      <td>0.528452</td>\n",
       "      <td>0.003254</td>\n",
       "      <td>0.011591</td>\n",
       "      <td>0.288949</td>\n",
       "      <td>0.167755</td>\n",
       "    </tr>\n",
       "    <tr>\n",
       "      <th>2</th>\n",
       "      <td>3</td>\n",
       "      <td>0.637056</td>\n",
       "      <td>0.009424</td>\n",
       "      <td>0.011609</td>\n",
       "      <td>0.071226</td>\n",
       "      <td>0.270684</td>\n",
       "    </tr>\n",
       "    <tr>\n",
       "      <th>3</th>\n",
       "      <td>4</td>\n",
       "      <td>0.037671</td>\n",
       "      <td>0.023269</td>\n",
       "      <td>0.045821</td>\n",
       "      <td>0.318619</td>\n",
       "      <td>0.574620</td>\n",
       "    </tr>\n",
       "    <tr>\n",
       "      <th>4</th>\n",
       "      <td>5</td>\n",
       "      <td>0.474270</td>\n",
       "      <td>0.003623</td>\n",
       "      <td>0.015603</td>\n",
       "      <td>0.322424</td>\n",
       "      <td>0.184080</td>\n",
       "    </tr>\n",
       "  </tbody>\n",
       "</table>\n",
       "</div>"
      ],
      "text/plain": [
       "   ID  Adoption      Died  Euthanasia  Return_to_owner  Transfer\n",
       "0   1  0.044719  0.017209    0.040645         0.233298  0.664129\n",
       "1   2  0.528452  0.003254    0.011591         0.288949  0.167755\n",
       "2   3  0.637056  0.009424    0.011609         0.071226  0.270684\n",
       "3   4  0.037671  0.023269    0.045821         0.318619  0.574620\n",
       "4   5  0.474270  0.003623    0.015603         0.322424  0.184080"
      ]
     },
     "execution_count": 27,
     "metadata": {},
     "output_type": "execute_result"
    }
   ],
   "source": [
    "mid = sample_submission['ID']\n",
    "result.insert(0, 'ID', mid)\n",
    "result.head()"
   ]
  },
  {
   "cell_type": "code",
   "execution_count": 28,
   "metadata": {
    "collapsed": true
   },
   "outputs": [],
   "source": [
    "result.to_csv(\"etcareva3.csv\", index=False)"
   ]
  },
  {
   "cell_type": "markdown",
   "metadata": {},
   "source": [
    "I got 0.92871 score after submission. The scores of other participants are between 0.45 and 29.00. "
   ]
  },
  {
   "cell_type": "markdown",
   "metadata": {},
   "source": [
    "## Conclusion"
   ]
  },
  {
   "cell_type": "markdown",
   "metadata": {},
   "source": [
    "I used multi class logistic regression for this project and got log_loss 0.92871. I also did some useful observations.\n",
    "1. Neutered Male and Spayed Female have a great chance to be adopted, but it is very hard to find new family for Intact Male and Intact Female!\n",
    "2. It is important for an animal to have an ID tag (I think that the shelter staff learned the names from the tags. The animals with unknown names have almost no chance to return to owners and have less chance to be adopted."
   ]
  },
  {
   "cell_type": "code",
   "execution_count": null,
   "metadata": {
    "collapsed": true
   },
   "outputs": [],
   "source": []
  }
 ],
 "metadata": {
  "kernelspec": {
   "display_name": "Python 3",
   "language": "python",
   "name": "python3"
  },
  "language_info": {
   "codemirror_mode": {
    "name": "ipython",
    "version": 3
   },
   "file_extension": ".py",
   "mimetype": "text/x-python",
   "name": "python",
   "nbconvert_exporter": "python",
   "pygments_lexer": "ipython3",
   "version": "3.4.4"
  }
 },
 "nbformat": 4,
 "nbformat_minor": 0
}
