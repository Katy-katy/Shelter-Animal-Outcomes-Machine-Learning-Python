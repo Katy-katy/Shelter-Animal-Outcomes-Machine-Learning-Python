{
 "cells": [
  {
   "cell_type": "markdown",
   "metadata": {},
   "source": [
    " ## Project \"Shelter Animal Outcomes\" - phase II"
   ]
  },
  {
   "cell_type": "markdown",
   "metadata": {},
   "source": [
    "This project was written for a Kaggle competition:\n",
    "https://www.kaggle.com/c/shelter-animal-outcomes/test\n",
    "Our goal was to predict the outcome of the animal as they leave the Animal Center.. We use the date comes from Austin Animal Center (October 1st, 2013 - March, 2016). Outcomes represent the status of animals as they leave the Animal Center. \n",
    "\n",
    "In the Phase I got the result 0.92197 using the VotingClassifier(Logistic Regression, CalibratedClassifierCV, and Random Forest) withefeatures = ['Name','AnimalType', 'AgeuponOutcome', 'Breed','SexuponOutcome_Intact Female', 'SexuponOutcome_Intact Male','SexuponOutcome_Neutered Male', 'SexuponOutcome_Spayed Female', 'SexuponOutcome_Unknown']\n",
    "\n",
    "Now I am going to try using \"DateTime\" since it is the time of outcome and I think, the adoption could be most likely on Weekends. Also, I am going to try to get some useful information from \"Breed\". \n",
    "\n",
    "Let's look at the test again:"
   ]
  },
  {
   "cell_type": "code",
   "execution_count": 1,
   "metadata": {
    "collapsed": false,
    "scrolled": true
   },
   "outputs": [
    {
     "data": {
      "text/html": [
       "<div>\n",
       "<table border=\"1\" class=\"dataframe\">\n",
       "  <thead>\n",
       "    <tr style=\"text-align: right;\">\n",
       "      <th></th>\n",
       "      <th>AnimalID</th>\n",
       "      <th>Name</th>\n",
       "      <th>DateTime</th>\n",
       "      <th>OutcomeType</th>\n",
       "      <th>OutcomeSubtype</th>\n",
       "      <th>AnimalType</th>\n",
       "      <th>SexuponOutcome</th>\n",
       "      <th>AgeuponOutcome</th>\n",
       "      <th>Breed</th>\n",
       "      <th>Color</th>\n",
       "    </tr>\n",
       "  </thead>\n",
       "  <tbody>\n",
       "    <tr>\n",
       "      <th>0</th>\n",
       "      <td>A671945</td>\n",
       "      <td>Hambone</td>\n",
       "      <td>2014-02-12 18:22:00</td>\n",
       "      <td>Return_to_owner</td>\n",
       "      <td>NaN</td>\n",
       "      <td>Dog</td>\n",
       "      <td>Neutered Male</td>\n",
       "      <td>1 year</td>\n",
       "      <td>Shetland Sheepdog Mix</td>\n",
       "      <td>Brown/White</td>\n",
       "    </tr>\n",
       "    <tr>\n",
       "      <th>1</th>\n",
       "      <td>A656520</td>\n",
       "      <td>Emily</td>\n",
       "      <td>2013-10-13 12:44:00</td>\n",
       "      <td>Euthanasia</td>\n",
       "      <td>Suffering</td>\n",
       "      <td>Cat</td>\n",
       "      <td>Spayed Female</td>\n",
       "      <td>1 year</td>\n",
       "      <td>Domestic Shorthair Mix</td>\n",
       "      <td>Cream Tabby</td>\n",
       "    </tr>\n",
       "    <tr>\n",
       "      <th>2</th>\n",
       "      <td>A686464</td>\n",
       "      <td>Pearce</td>\n",
       "      <td>2015-01-31 12:28:00</td>\n",
       "      <td>Adoption</td>\n",
       "      <td>Foster</td>\n",
       "      <td>Dog</td>\n",
       "      <td>Neutered Male</td>\n",
       "      <td>2 years</td>\n",
       "      <td>Pit Bull Mix</td>\n",
       "      <td>Blue/White</td>\n",
       "    </tr>\n",
       "    <tr>\n",
       "      <th>3</th>\n",
       "      <td>A683430</td>\n",
       "      <td>NaN</td>\n",
       "      <td>2014-07-11 19:09:00</td>\n",
       "      <td>Transfer</td>\n",
       "      <td>Partner</td>\n",
       "      <td>Cat</td>\n",
       "      <td>Intact Male</td>\n",
       "      <td>3 weeks</td>\n",
       "      <td>Domestic Shorthair Mix</td>\n",
       "      <td>Blue Cream</td>\n",
       "    </tr>\n",
       "    <tr>\n",
       "      <th>4</th>\n",
       "      <td>A667013</td>\n",
       "      <td>NaN</td>\n",
       "      <td>2013-11-15 12:52:00</td>\n",
       "      <td>Transfer</td>\n",
       "      <td>Partner</td>\n",
       "      <td>Dog</td>\n",
       "      <td>Neutered Male</td>\n",
       "      <td>2 years</td>\n",
       "      <td>Lhasa Apso/Miniature Poodle</td>\n",
       "      <td>Tan</td>\n",
       "    </tr>\n",
       "  </tbody>\n",
       "</table>\n",
       "</div>"
      ],
      "text/plain": [
       "  AnimalID     Name             DateTime      OutcomeType OutcomeSubtype  \\\n",
       "0  A671945  Hambone  2014-02-12 18:22:00  Return_to_owner            NaN   \n",
       "1  A656520    Emily  2013-10-13 12:44:00       Euthanasia      Suffering   \n",
       "2  A686464   Pearce  2015-01-31 12:28:00         Adoption         Foster   \n",
       "3  A683430      NaN  2014-07-11 19:09:00         Transfer        Partner   \n",
       "4  A667013      NaN  2013-11-15 12:52:00         Transfer        Partner   \n",
       "\n",
       "  AnimalType SexuponOutcome AgeuponOutcome                        Breed  \\\n",
       "0        Dog  Neutered Male         1 year        Shetland Sheepdog Mix   \n",
       "1        Cat  Spayed Female         1 year       Domestic Shorthair Mix   \n",
       "2        Dog  Neutered Male        2 years                 Pit Bull Mix   \n",
       "3        Cat    Intact Male        3 weeks       Domestic Shorthair Mix   \n",
       "4        Dog  Neutered Male        2 years  Lhasa Apso/Miniature Poodle   \n",
       "\n",
       "         Color  \n",
       "0  Brown/White  \n",
       "1  Cream Tabby  \n",
       "2   Blue/White  \n",
       "3   Blue Cream  \n",
       "4          Tan  "
      ]
     },
     "execution_count": 1,
     "metadata": {},
     "output_type": "execute_result"
    }
   ],
   "source": [
    "import pandas\n",
    "data = pandas.read_csv(\"train.csv\")\n",
    "data.head()"
   ]
  },
  {
   "cell_type": "code",
   "execution_count": 2,
   "metadata": {
    "collapsed": false
   },
   "outputs": [
    {
     "data": {
      "text/plain": [
       "(26729, 10)"
      ]
     },
     "execution_count": 2,
     "metadata": {},
     "output_type": "execute_result"
    }
   ],
   "source": [
    "data.shape"
   ]
  },
  {
   "cell_type": "code",
   "execution_count": 3,
   "metadata": {
    "collapsed": true
   },
   "outputs": [],
   "source": [
    "data = data[data[\"OutcomeType\"] != \"NaN\"]\n",
    "data['AnimalType'] =data['AnimalType'].fillna(\"Dog\")\n",
    "data['Breed'] =data['Breed'].fillna(\"Mix\")\n",
    "data['SexuponOutcome'] =data['SexuponOutcome'].fillna(\"Neutered Male\")"
   ]
  },
  {
   "cell_type": "markdown",
   "metadata": {},
   "source": [
    "We do not need AnimalId and OutcomeSubtype sinse we do not have them in the test set."
   ]
  },
  {
   "cell_type": "code",
   "execution_count": 4,
   "metadata": {
    "collapsed": false
   },
   "outputs": [],
   "source": [
    "del data[\"AnimalID\"]\n",
    "del data[\"OutcomeSubtype\"]"
   ]
  },
  {
   "cell_type": "code",
   "execution_count": 5,
   "metadata": {
    "collapsed": true
   },
   "outputs": [],
   "source": [
    "data['Name'] =data['Name'].fillna(0)\n",
    "data.loc[data['Name'] != 0, \"Name\"] = 1\n",
    "data.loc[data[\"AnimalType\"]== \"Dog\", \"AnimalType\"] = 1\n",
    "data.loc[data[\"AnimalType\"]!= 1, \"AnimalType\"] = 0"
   ]
  },
  {
   "cell_type": "markdown",
   "metadata": {},
   "source": [
    "Let's create \"Day_of_week\" and \"Hour\" columns:"
   ]
  },
  {
   "cell_type": "code",
   "execution_count": 6,
   "metadata": {
    "collapsed": true
   },
   "outputs": [],
   "source": [
    "data['Hour'] = data.DateTime.map( lambda x: pandas.to_datetime(x).hour )"
   ]
  },
  {
   "cell_type": "code",
   "execution_count": 7,
   "metadata": {
    "collapsed": true
   },
   "outputs": [],
   "source": [
    "data['Day_of_Week'] = data.DateTime.map( lambda x: pandas.to_datetime(x).dayofweek )"
   ]
  },
  {
   "cell_type": "code",
   "execution_count": 65,
   "metadata": {
    "collapsed": false
   },
   "outputs": [
    {
     "data": {
      "text/plain": [
       "<matplotlib.axes._subplots.AxesSubplot at 0x11f631128>"
      ]
     },
     "execution_count": 65,
     "metadata": {},
     "output_type": "execute_result"
    },
    {
     "data": {
      "image/png": "[encoded data removed]",
      "text/plain": [
       "<matplotlib.figure.Figure at 0x124252e48>"
      ]
     },
     "metadata": {},
     "output_type": "display_data"
    }
   ],
   "source": [
    "import seaborn as sns\n",
    "%matplotlib inline\n",
    "\n",
    "sns.countplot(data=data, x='Day_of_Week',hue=\"OutcomeType\", palette = \"Set3\")"
   ]
  },
  {
   "cell_type": "markdown",
   "metadata": {},
   "source": [
    "\"5\" and \"6\" means \"Suturday\" and \"Sunday\". The animals are more likely adopted at Weekends! Thus, I am replacing 5 and 6 by 1, and other numbers by 0"
   ]
  },
  {
   "cell_type": "code",
   "execution_count": 8,
   "metadata": {
    "collapsed": false
   },
   "outputs": [
    {
     "data": {
      "text/html": [
       "<div>\n",
       "<table border=\"1\" class=\"dataframe\">\n",
       "  <thead>\n",
       "    <tr style=\"text-align: right;\">\n",
       "      <th></th>\n",
       "      <th>Name</th>\n",
       "      <th>DateTime</th>\n",
       "      <th>OutcomeType</th>\n",
       "      <th>AnimalType</th>\n",
       "      <th>SexuponOutcome</th>\n",
       "      <th>AgeuponOutcome</th>\n",
       "      <th>Breed</th>\n",
       "      <th>Color</th>\n",
       "      <th>Hour</th>\n",
       "      <th>Day_of_Week</th>\n",
       "    </tr>\n",
       "  </thead>\n",
       "  <tbody>\n",
       "    <tr>\n",
       "      <th>0</th>\n",
       "      <td>1</td>\n",
       "      <td>2014-02-12 18:22:00</td>\n",
       "      <td>Return_to_owner</td>\n",
       "      <td>1</td>\n",
       "      <td>Neutered Male</td>\n",
       "      <td>1 year</td>\n",
       "      <td>Shetland Sheepdog Mix</td>\n",
       "      <td>Brown/White</td>\n",
       "      <td>18</td>\n",
       "      <td>0</td>\n",
       "    </tr>\n",
       "    <tr>\n",
       "      <th>1</th>\n",
       "      <td>1</td>\n",
       "      <td>2013-10-13 12:44:00</td>\n",
       "      <td>Euthanasia</td>\n",
       "      <td>0</td>\n",
       "      <td>Spayed Female</td>\n",
       "      <td>1 year</td>\n",
       "      <td>Domestic Shorthair Mix</td>\n",
       "      <td>Cream Tabby</td>\n",
       "      <td>12</td>\n",
       "      <td>1</td>\n",
       "    </tr>\n",
       "    <tr>\n",
       "      <th>2</th>\n",
       "      <td>1</td>\n",
       "      <td>2015-01-31 12:28:00</td>\n",
       "      <td>Adoption</td>\n",
       "      <td>1</td>\n",
       "      <td>Neutered Male</td>\n",
       "      <td>2 years</td>\n",
       "      <td>Pit Bull Mix</td>\n",
       "      <td>Blue/White</td>\n",
       "      <td>12</td>\n",
       "      <td>1</td>\n",
       "    </tr>\n",
       "    <tr>\n",
       "      <th>3</th>\n",
       "      <td>0</td>\n",
       "      <td>2014-07-11 19:09:00</td>\n",
       "      <td>Transfer</td>\n",
       "      <td>0</td>\n",
       "      <td>Intact Male</td>\n",
       "      <td>3 weeks</td>\n",
       "      <td>Domestic Shorthair Mix</td>\n",
       "      <td>Blue Cream</td>\n",
       "      <td>19</td>\n",
       "      <td>0</td>\n",
       "    </tr>\n",
       "    <tr>\n",
       "      <th>4</th>\n",
       "      <td>0</td>\n",
       "      <td>2013-11-15 12:52:00</td>\n",
       "      <td>Transfer</td>\n",
       "      <td>1</td>\n",
       "      <td>Neutered Male</td>\n",
       "      <td>2 years</td>\n",
       "      <td>Lhasa Apso/Miniature Poodle</td>\n",
       "      <td>Tan</td>\n",
       "      <td>12</td>\n",
       "      <td>0</td>\n",
       "    </tr>\n",
       "  </tbody>\n",
       "</table>\n",
       "</div>"
      ],
      "text/plain": [
       "  Name             DateTime      OutcomeType AnimalType SexuponOutcome  \\\n",
       "0    1  2014-02-12 18:22:00  Return_to_owner          1  Neutered Male   \n",
       "1    1  2013-10-13 12:44:00       Euthanasia          0  Spayed Female   \n",
       "2    1  2015-01-31 12:28:00         Adoption          1  Neutered Male   \n",
       "3    0  2014-07-11 19:09:00         Transfer          0    Intact Male   \n",
       "4    0  2013-11-15 12:52:00         Transfer          1  Neutered Male   \n",
       "\n",
       "  AgeuponOutcome                        Breed        Color  Hour  Day_of_Week  \n",
       "0         1 year        Shetland Sheepdog Mix  Brown/White    18            0  \n",
       "1         1 year       Domestic Shorthair Mix  Cream Tabby    12            1  \n",
       "2        2 years                 Pit Bull Mix   Blue/White    12            1  \n",
       "3        3 weeks       Domestic Shorthair Mix   Blue Cream    19            0  \n",
       "4        2 years  Lhasa Apso/Miniature Poodle          Tan    12            0  "
      ]
     },
     "execution_count": 8,
     "metadata": {},
     "output_type": "execute_result"
    }
   ],
   "source": [
    "data.loc[data[\"Day_of_Week\"]== 5, \"Day_of_Week\"] = 10\n",
    "data.loc[data[\"Day_of_Week\"]== 6, \"Day_of_Week\"] = 10\n",
    "data.loc[data[\"Day_of_Week\"]!= 10, \"Day_of_Week\"] = 0\n",
    "data.loc[data[\"Day_of_Week\"]== 10, \"Day_of_Week\"] = 1\n",
    "data.head()"
   ]
  },
  {
   "cell_type": "code",
   "execution_count": 67,
   "metadata": {
    "collapsed": false
   },
   "outputs": [
    {
     "data": {
      "text/plain": [
       "<matplotlib.axes._subplots.AxesSubplot at 0x1201df240>"
      ]
     },
     "execution_count": 67,
     "metadata": {},
     "output_type": "execute_result"
    },
    {
     "data": {
      "image/png": "[encoded data removed]",
      "text/plain": [
       "<matplotlib.figure.Figure at 0x11f631da0>"
      ]
     },
     "metadata": {},
     "output_type": "display_data"
    }
   ],
   "source": [
    "sns.countplot(data=data, x='Hour',hue=\"OutcomeType\", palette = \"Set3\")"
   ]
  },
  {
   "cell_type": "markdown",
   "metadata": {},
   "source": [
    "It is interesting! The animal are adopted more likely at 16-19 and 7-8; transfered at 0, 9, 12-15. Thus, I am going to create features: 16and19, 17and18, 7and8, 9, 0, 12and13, 14and15, other_time."
   ]
  },
  {
   "cell_type": "code",
   "execution_count": 9,
   "metadata": {
    "collapsed": false
   },
   "outputs": [
    {
     "data": {
      "text/html": [
       "<div>\n",
       "<table border=\"1\" class=\"dataframe\">\n",
       "  <thead>\n",
       "    <tr style=\"text-align: right;\">\n",
       "      <th></th>\n",
       "      <th>Name</th>\n",
       "      <th>DateTime</th>\n",
       "      <th>OutcomeType</th>\n",
       "      <th>AnimalType</th>\n",
       "      <th>SexuponOutcome</th>\n",
       "      <th>AgeuponOutcome</th>\n",
       "      <th>Breed</th>\n",
       "      <th>Color</th>\n",
       "      <th>Hour</th>\n",
       "      <th>Day_of_Week</th>\n",
       "    </tr>\n",
       "  </thead>\n",
       "  <tbody>\n",
       "    <tr>\n",
       "      <th>0</th>\n",
       "      <td>1</td>\n",
       "      <td>2014-02-12 18:22:00</td>\n",
       "      <td>Return_to_owner</td>\n",
       "      <td>1</td>\n",
       "      <td>Neutered Male</td>\n",
       "      <td>1 year</td>\n",
       "      <td>Shetland Sheepdog Mix</td>\n",
       "      <td>Brown/White</td>\n",
       "      <td>17and18</td>\n",
       "      <td>0</td>\n",
       "    </tr>\n",
       "    <tr>\n",
       "      <th>1</th>\n",
       "      <td>1</td>\n",
       "      <td>2013-10-13 12:44:00</td>\n",
       "      <td>Euthanasia</td>\n",
       "      <td>0</td>\n",
       "      <td>Spayed Female</td>\n",
       "      <td>1 year</td>\n",
       "      <td>Domestic Shorthair Mix</td>\n",
       "      <td>Cream Tabby</td>\n",
       "      <td>12and13</td>\n",
       "      <td>1</td>\n",
       "    </tr>\n",
       "    <tr>\n",
       "      <th>2</th>\n",
       "      <td>1</td>\n",
       "      <td>2015-01-31 12:28:00</td>\n",
       "      <td>Adoption</td>\n",
       "      <td>1</td>\n",
       "      <td>Neutered Male</td>\n",
       "      <td>2 years</td>\n",
       "      <td>Pit Bull Mix</td>\n",
       "      <td>Blue/White</td>\n",
       "      <td>12and13</td>\n",
       "      <td>1</td>\n",
       "    </tr>\n",
       "    <tr>\n",
       "      <th>3</th>\n",
       "      <td>0</td>\n",
       "      <td>2014-07-11 19:09:00</td>\n",
       "      <td>Transfer</td>\n",
       "      <td>0</td>\n",
       "      <td>Intact Male</td>\n",
       "      <td>3 weeks</td>\n",
       "      <td>Domestic Shorthair Mix</td>\n",
       "      <td>Blue Cream</td>\n",
       "      <td>16and19</td>\n",
       "      <td>0</td>\n",
       "    </tr>\n",
       "    <tr>\n",
       "      <th>4</th>\n",
       "      <td>0</td>\n",
       "      <td>2013-11-15 12:52:00</td>\n",
       "      <td>Transfer</td>\n",
       "      <td>1</td>\n",
       "      <td>Neutered Male</td>\n",
       "      <td>2 years</td>\n",
       "      <td>Lhasa Apso/Miniature Poodle</td>\n",
       "      <td>Tan</td>\n",
       "      <td>12and13</td>\n",
       "      <td>0</td>\n",
       "    </tr>\n",
       "  </tbody>\n",
       "</table>\n",
       "</div>"
      ],
      "text/plain": [
       "  Name             DateTime      OutcomeType AnimalType SexuponOutcome  \\\n",
       "0    1  2014-02-12 18:22:00  Return_to_owner          1  Neutered Male   \n",
       "1    1  2013-10-13 12:44:00       Euthanasia          0  Spayed Female   \n",
       "2    1  2015-01-31 12:28:00         Adoption          1  Neutered Male   \n",
       "3    0  2014-07-11 19:09:00         Transfer          0    Intact Male   \n",
       "4    0  2013-11-15 12:52:00         Transfer          1  Neutered Male   \n",
       "\n",
       "  AgeuponOutcome                        Breed        Color     Hour  \\\n",
       "0         1 year        Shetland Sheepdog Mix  Brown/White  17and18   \n",
       "1         1 year       Domestic Shorthair Mix  Cream Tabby  12and13   \n",
       "2        2 years                 Pit Bull Mix   Blue/White  12and13   \n",
       "3        3 weeks       Domestic Shorthair Mix   Blue Cream  16and19   \n",
       "4        2 years  Lhasa Apso/Miniature Poodle          Tan  12and13   \n",
       "\n",
       "   Day_of_Week  \n",
       "0            0  \n",
       "1            1  \n",
       "2            1  \n",
       "3            0  \n",
       "4            0  "
      ]
     },
     "execution_count": 9,
     "metadata": {},
     "output_type": "execute_result"
    }
   ],
   "source": [
    "def day(x):\n",
    "    if x == 16 or x == 19:\n",
    "        x = \"16and19\"\n",
    "    elif x == 17 or x == 18:\n",
    "        x = \"17and18\"\n",
    "    elif x == 7 or x == 8:\n",
    "        x = \"7and8\"\n",
    "    elif x == 12 or x == 13:\n",
    "        x = \"12and13\"\n",
    "    elif x == 14 or x == 15:\n",
    "        x = \"14and15\"\n",
    "    elif x == 9:\n",
    "        x = \"9\"\n",
    "    elif x == 0:\n",
    "        x = \"0\"\n",
    "    else:\n",
    "        x = \"other_time\"\n",
    "    return x\n",
    "       \n",
    "data['Hour'] = data.Hour.apply(day)\n",
    "data.head()"
   ]
  },
  {
   "cell_type": "code",
   "execution_count": 10,
   "metadata": {
    "collapsed": true
   },
   "outputs": [],
   "source": [
    "def age_as_float(x):\n",
    "    x = str(x)\n",
    "    x_list = x.split(\" \")\n",
    "    if len(x_list)==2:\n",
    "        if x_list[1] =='year': return 1.0\n",
    "        elif x_list[1] =='years': return float(x_list[0])\n",
    "        elif x_list[1] =='month': return float(x_list[0])/12\n",
    "        elif x_list[1] =='months': return float(x_list[0])/12\n",
    "        elif x_list[1] =='week': return float(x_list[0])\n",
    "        elif x_list[1] =='weeks': return float(x_list[0])/54\n",
    "        elif x_list[1] =='days': return float(x_list[0])/365\n",
    "        else: return 0\n",
    "    else:return 0\n",
    "\n",
    "data['AgeuponOutcome'] = data.AgeuponOutcome.apply(age_as_float)\n",
    "#now we have 0 age for the animals with undefined age. Let's replace 0 by mean age:\n",
    "data.loc[data['AgeuponOutcome']== 0, \"AgeuponOutcome\"] = data['AgeuponOutcome'].median()"
   ]
  },
  {
   "cell_type": "code",
   "execution_count": 11,
   "metadata": {
    "collapsed": false
   },
   "outputs": [
    {
     "data": {
      "text/html": [
       "<div>\n",
       "<table border=\"1\" class=\"dataframe\">\n",
       "  <thead>\n",
       "    <tr style=\"text-align: right;\">\n",
       "      <th></th>\n",
       "      <th>Name</th>\n",
       "      <th>DateTime</th>\n",
       "      <th>OutcomeType</th>\n",
       "      <th>AnimalType</th>\n",
       "      <th>AgeuponOutcome</th>\n",
       "      <th>Breed</th>\n",
       "      <th>Color</th>\n",
       "      <th>Day_of_Week</th>\n",
       "      <th>SexuponOutcome_Intact Female</th>\n",
       "      <th>SexuponOutcome_Intact Male</th>\n",
       "      <th>...</th>\n",
       "      <th>SexuponOutcome_Spayed Female</th>\n",
       "      <th>SexuponOutcome_Unknown</th>\n",
       "      <th>Hour_0</th>\n",
       "      <th>Hour_12and13</th>\n",
       "      <th>Hour_14and15</th>\n",
       "      <th>Hour_16and19</th>\n",
       "      <th>Hour_17and18</th>\n",
       "      <th>Hour_7and8</th>\n",
       "      <th>Hour_9</th>\n",
       "      <th>Hour_other_time</th>\n",
       "    </tr>\n",
       "  </thead>\n",
       "  <tbody>\n",
       "    <tr>\n",
       "      <th>0</th>\n",
       "      <td>1</td>\n",
       "      <td>2014-02-12 18:22:00</td>\n",
       "      <td>Return_to_owner</td>\n",
       "      <td>1</td>\n",
       "      <td>1.000000</td>\n",
       "      <td>Shetland Sheepdog Mix</td>\n",
       "      <td>Brown/White</td>\n",
       "      <td>0</td>\n",
       "      <td>0</td>\n",
       "      <td>0</td>\n",
       "      <td>...</td>\n",
       "      <td>0</td>\n",
       "      <td>0</td>\n",
       "      <td>0</td>\n",
       "      <td>0</td>\n",
       "      <td>0</td>\n",
       "      <td>0</td>\n",
       "      <td>1</td>\n",
       "      <td>0</td>\n",
       "      <td>0</td>\n",
       "      <td>0</td>\n",
       "    </tr>\n",
       "    <tr>\n",
       "      <th>1</th>\n",
       "      <td>1</td>\n",
       "      <td>2013-10-13 12:44:00</td>\n",
       "      <td>Euthanasia</td>\n",
       "      <td>0</td>\n",
       "      <td>1.000000</td>\n",
       "      <td>Domestic Shorthair Mix</td>\n",
       "      <td>Cream Tabby</td>\n",
       "      <td>1</td>\n",
       "      <td>0</td>\n",
       "      <td>0</td>\n",
       "      <td>...</td>\n",
       "      <td>1</td>\n",
       "      <td>0</td>\n",
       "      <td>0</td>\n",
       "      <td>1</td>\n",
       "      <td>0</td>\n",
       "      <td>0</td>\n",
       "      <td>0</td>\n",
       "      <td>0</td>\n",
       "      <td>0</td>\n",
       "      <td>0</td>\n",
       "    </tr>\n",
       "    <tr>\n",
       "      <th>2</th>\n",
       "      <td>1</td>\n",
       "      <td>2015-01-31 12:28:00</td>\n",
       "      <td>Adoption</td>\n",
       "      <td>1</td>\n",
       "      <td>2.000000</td>\n",
       "      <td>Pit Bull Mix</td>\n",
       "      <td>Blue/White</td>\n",
       "      <td>1</td>\n",
       "      <td>0</td>\n",
       "      <td>0</td>\n",
       "      <td>...</td>\n",
       "      <td>0</td>\n",
       "      <td>0</td>\n",
       "      <td>0</td>\n",
       "      <td>1</td>\n",
       "      <td>0</td>\n",
       "      <td>0</td>\n",
       "      <td>0</td>\n",
       "      <td>0</td>\n",
       "      <td>0</td>\n",
       "      <td>0</td>\n",
       "    </tr>\n",
       "    <tr>\n",
       "      <th>3</th>\n",
       "      <td>0</td>\n",
       "      <td>2014-07-11 19:09:00</td>\n",
       "      <td>Transfer</td>\n",
       "      <td>0</td>\n",
       "      <td>0.055556</td>\n",
       "      <td>Domestic Shorthair Mix</td>\n",
       "      <td>Blue Cream</td>\n",
       "      <td>0</td>\n",
       "      <td>0</td>\n",
       "      <td>1</td>\n",
       "      <td>...</td>\n",
       "      <td>0</td>\n",
       "      <td>0</td>\n",
       "      <td>0</td>\n",
       "      <td>0</td>\n",
       "      <td>0</td>\n",
       "      <td>1</td>\n",
       "      <td>0</td>\n",
       "      <td>0</td>\n",
       "      <td>0</td>\n",
       "      <td>0</td>\n",
       "    </tr>\n",
       "    <tr>\n",
       "      <th>4</th>\n",
       "      <td>0</td>\n",
       "      <td>2013-11-15 12:52:00</td>\n",
       "      <td>Transfer</td>\n",
       "      <td>1</td>\n",
       "      <td>2.000000</td>\n",
       "      <td>Lhasa Apso/Miniature Poodle</td>\n",
       "      <td>Tan</td>\n",
       "      <td>0</td>\n",
       "      <td>0</td>\n",
       "      <td>0</td>\n",
       "      <td>...</td>\n",
       "      <td>0</td>\n",
       "      <td>0</td>\n",
       "      <td>0</td>\n",
       "      <td>1</td>\n",
       "      <td>0</td>\n",
       "      <td>0</td>\n",
       "      <td>0</td>\n",
       "      <td>0</td>\n",
       "      <td>0</td>\n",
       "      <td>0</td>\n",
       "    </tr>\n",
       "  </tbody>\n",
       "</table>\n",
       "<p>5 rows × 21 columns</p>\n",
       "</div>"
      ],
      "text/plain": [
       "  Name             DateTime      OutcomeType AnimalType  AgeuponOutcome  \\\n",
       "0    1  2014-02-12 18:22:00  Return_to_owner          1        1.000000   \n",
       "1    1  2013-10-13 12:44:00       Euthanasia          0        1.000000   \n",
       "2    1  2015-01-31 12:28:00         Adoption          1        2.000000   \n",
       "3    0  2014-07-11 19:09:00         Transfer          0        0.055556   \n",
       "4    0  2013-11-15 12:52:00         Transfer          1        2.000000   \n",
       "\n",
       "                         Breed        Color  Day_of_Week  \\\n",
       "0        Shetland Sheepdog Mix  Brown/White            0   \n",
       "1       Domestic Shorthair Mix  Cream Tabby            1   \n",
       "2                 Pit Bull Mix   Blue/White            1   \n",
       "3       Domestic Shorthair Mix   Blue Cream            0   \n",
       "4  Lhasa Apso/Miniature Poodle          Tan            0   \n",
       "\n",
       "   SexuponOutcome_Intact Female  SexuponOutcome_Intact Male       ...         \\\n",
       "0                             0                           0       ...          \n",
       "1                             0                           0       ...          \n",
       "2                             0                           0       ...          \n",
       "3                             0                           1       ...          \n",
       "4                             0                           0       ...          \n",
       "\n",
       "   SexuponOutcome_Spayed Female  SexuponOutcome_Unknown  Hour_0  Hour_12and13  \\\n",
       "0                             0                       0       0             0   \n",
       "1                             1                       0       0             1   \n",
       "2                             0                       0       0             1   \n",
       "3                             0                       0       0             0   \n",
       "4                             0                       0       0             1   \n",
       "\n",
       "   Hour_14and15  Hour_16and19  Hour_17and18  Hour_7and8  Hour_9  \\\n",
       "0             0             0             1           0       0   \n",
       "1             0             0             0           0       0   \n",
       "2             0             0             0           0       0   \n",
       "3             0             1             0           0       0   \n",
       "4             0             0             0           0       0   \n",
       "\n",
       "   Hour_other_time  \n",
       "0                0  \n",
       "1                0  \n",
       "2                0  \n",
       "3                0  \n",
       "4                0  \n",
       "\n",
       "[5 rows x 21 columns]"
      ]
     },
     "execution_count": 11,
     "metadata": {},
     "output_type": "execute_result"
    }
   ],
   "source": [
    "#I used tutorial from https://www.dataquest.io/learn\n",
    "def create_dummies(var):\n",
    "    var_unique = var.unique()\n",
    "    var_unique.sort()\n",
    "    dummy = pandas.DataFrame()\n",
    "    for val in var_unique:\n",
    "    #for val in var_unique[:-1]:\n",
    "        # which columns are equal to our unique value\n",
    "        d = var == val\n",
    "        # make a new column with a dummy variable\n",
    "        dummy[var.name + \"_\" + str(val)] = d.astype(int)\n",
    "    return(dummy)\n",
    "\n",
    "sex_dummies = create_dummies(data[\"SexuponOutcome\"])\n",
    "data = pandas.concat([data, sex_dummies], axis=1)\n",
    "del data[\"SexuponOutcome\"]\n",
    "\n",
    "hour = create_dummies(data[\"Hour\"])\n",
    "data = pandas.concat([data, hour], axis=1)\n",
    "del data[\"Hour\"]\n",
    "\n",
    "data.head()"
   ]
  },
  {
   "cell_type": "code",
   "execution_count": 12,
   "metadata": {
    "collapsed": false
   },
   "outputs": [],
   "source": [
    "items_counts = data['Breed'].value_counts()"
   ]
  },
  {
   "cell_type": "markdown",
   "metadata": {},
   "source": [
    "I am going to work with breeds with count > 150. Also, I am going to add \"Boxer\" and \"Pit Bull\" to my list since this dogs can be agressive. "
   ]
  },
  {
   "cell_type": "code",
   "execution_count": 13,
   "metadata": {
    "collapsed": false
   },
   "outputs": [],
   "source": [
    "to_my_breads = data['Breed'].value_counts() > 150"
   ]
  },
  {
   "cell_type": "code",
   "execution_count": 14,
   "metadata": {
    "collapsed": false
   },
   "outputs": [
    {
     "data": {
      "text/plain": [
       "Domestic Shorthair Mix       8810\n",
       "Pit Bull Mix                 1906\n",
       "Chihuahua Shorthair Mix      1766\n",
       "Labrador Retriever Mix       1363\n",
       "Domestic Medium Hair Mix      839\n",
       "German Shepherd Mix           575\n",
       "Domestic Longhair Mix         520\n",
       "Siamese Mix                   389\n",
       "Australian Cattle Dog Mix     367\n",
       "Dachshund Mix                 318\n",
       "Boxer Mix                     245\n",
       "Miniature Poodle Mix          233\n",
       "Border Collie Mix             229\n",
       "Australian Shepherd Mix       163\n",
       "Rat Terrier Mix               157\n",
       "Catahoula Mix                 157\n",
       "Name: Breed, dtype: int64"
      ]
     },
     "execution_count": 14,
     "metadata": {},
     "output_type": "execute_result"
    }
   ],
   "source": [
    "items_counts[to_my_breads]"
   ]
  },
  {
   "cell_type": "code",
   "execution_count": 15,
   "metadata": {
    "collapsed": false
   },
   "outputs": [],
   "source": [
    "my_breeds = [\"Domestic Shorthair\", \"Chihuahua Shorthair\", \"Labrador Retriever\", \n",
    "             \"Domestic Medium Hair\", \"German Shepherd\", \"Domestic Longhair\", \"Siamese\", \"Australian Cattle Dog\", \n",
    "             \"Dachshund\", \"Miniature Poodle\", \"Border Collie\",\"Australian Shepherd\", \"Rat Terrier\", \"Catahoula\", \n",
    "              \"Husky\", \"Rottweiler\", \"Bulldog\", \"Pit Bull\", \"Boxer\"]"
   ]
  },
  {
   "cell_type": "code",
   "execution_count": 16,
   "metadata": {
    "collapsed": false
   },
   "outputs": [
    {
     "data": {
      "text/html": [
       "<div>\n",
       "<table border=\"1\" class=\"dataframe\">\n",
       "  <thead>\n",
       "    <tr style=\"text-align: right;\">\n",
       "      <th></th>\n",
       "      <th>Name</th>\n",
       "      <th>DateTime</th>\n",
       "      <th>OutcomeType</th>\n",
       "      <th>AnimalType</th>\n",
       "      <th>AgeuponOutcome</th>\n",
       "      <th>Breed</th>\n",
       "      <th>Color</th>\n",
       "      <th>Day_of_Week</th>\n",
       "      <th>SexuponOutcome_Intact Female</th>\n",
       "      <th>SexuponOutcome_Intact Male</th>\n",
       "      <th>...</th>\n",
       "      <th>SexuponOutcome_Unknown</th>\n",
       "      <th>Hour_0</th>\n",
       "      <th>Hour_12and13</th>\n",
       "      <th>Hour_14and15</th>\n",
       "      <th>Hour_16and19</th>\n",
       "      <th>Hour_17and18</th>\n",
       "      <th>Hour_7and8</th>\n",
       "      <th>Hour_9</th>\n",
       "      <th>Hour_other_time</th>\n",
       "      <th>My_Breeds</th>\n",
       "    </tr>\n",
       "  </thead>\n",
       "  <tbody>\n",
       "    <tr>\n",
       "      <th>0</th>\n",
       "      <td>1</td>\n",
       "      <td>2014-02-12 18:22:00</td>\n",
       "      <td>Return_to_owner</td>\n",
       "      <td>1</td>\n",
       "      <td>1.000000</td>\n",
       "      <td>Shetland Sheepdog Mix</td>\n",
       "      <td>Brown/White</td>\n",
       "      <td>0</td>\n",
       "      <td>0</td>\n",
       "      <td>0</td>\n",
       "      <td>...</td>\n",
       "      <td>0</td>\n",
       "      <td>0</td>\n",
       "      <td>0</td>\n",
       "      <td>0</td>\n",
       "      <td>0</td>\n",
       "      <td>1</td>\n",
       "      <td>0</td>\n",
       "      <td>0</td>\n",
       "      <td>0</td>\n",
       "      <td>other</td>\n",
       "    </tr>\n",
       "    <tr>\n",
       "      <th>1</th>\n",
       "      <td>1</td>\n",
       "      <td>2013-10-13 12:44:00</td>\n",
       "      <td>Euthanasia</td>\n",
       "      <td>0</td>\n",
       "      <td>1.000000</td>\n",
       "      <td>Domestic Shorthair Mix</td>\n",
       "      <td>Cream Tabby</td>\n",
       "      <td>1</td>\n",
       "      <td>0</td>\n",
       "      <td>0</td>\n",
       "      <td>...</td>\n",
       "      <td>0</td>\n",
       "      <td>0</td>\n",
       "      <td>1</td>\n",
       "      <td>0</td>\n",
       "      <td>0</td>\n",
       "      <td>0</td>\n",
       "      <td>0</td>\n",
       "      <td>0</td>\n",
       "      <td>0</td>\n",
       "      <td>Domestic Shorthair</td>\n",
       "    </tr>\n",
       "    <tr>\n",
       "      <th>2</th>\n",
       "      <td>1</td>\n",
       "      <td>2015-01-31 12:28:00</td>\n",
       "      <td>Adoption</td>\n",
       "      <td>1</td>\n",
       "      <td>2.000000</td>\n",
       "      <td>Pit Bull Mix</td>\n",
       "      <td>Blue/White</td>\n",
       "      <td>1</td>\n",
       "      <td>0</td>\n",
       "      <td>0</td>\n",
       "      <td>...</td>\n",
       "      <td>0</td>\n",
       "      <td>0</td>\n",
       "      <td>1</td>\n",
       "      <td>0</td>\n",
       "      <td>0</td>\n",
       "      <td>0</td>\n",
       "      <td>0</td>\n",
       "      <td>0</td>\n",
       "      <td>0</td>\n",
       "      <td>Pit Bull</td>\n",
       "    </tr>\n",
       "    <tr>\n",
       "      <th>3</th>\n",
       "      <td>0</td>\n",
       "      <td>2014-07-11 19:09:00</td>\n",
       "      <td>Transfer</td>\n",
       "      <td>0</td>\n",
       "      <td>0.055556</td>\n",
       "      <td>Domestic Shorthair Mix</td>\n",
       "      <td>Blue Cream</td>\n",
       "      <td>0</td>\n",
       "      <td>0</td>\n",
       "      <td>1</td>\n",
       "      <td>...</td>\n",
       "      <td>0</td>\n",
       "      <td>0</td>\n",
       "      <td>0</td>\n",
       "      <td>0</td>\n",
       "      <td>1</td>\n",
       "      <td>0</td>\n",
       "      <td>0</td>\n",
       "      <td>0</td>\n",
       "      <td>0</td>\n",
       "      <td>Domestic Shorthair</td>\n",
       "    </tr>\n",
       "    <tr>\n",
       "      <th>4</th>\n",
       "      <td>0</td>\n",
       "      <td>2013-11-15 12:52:00</td>\n",
       "      <td>Transfer</td>\n",
       "      <td>1</td>\n",
       "      <td>2.000000</td>\n",
       "      <td>Lhasa Apso/Miniature Poodle</td>\n",
       "      <td>Tan</td>\n",
       "      <td>0</td>\n",
       "      <td>0</td>\n",
       "      <td>0</td>\n",
       "      <td>...</td>\n",
       "      <td>0</td>\n",
       "      <td>0</td>\n",
       "      <td>1</td>\n",
       "      <td>0</td>\n",
       "      <td>0</td>\n",
       "      <td>0</td>\n",
       "      <td>0</td>\n",
       "      <td>0</td>\n",
       "      <td>0</td>\n",
       "      <td>Miniature Poodle</td>\n",
       "    </tr>\n",
       "  </tbody>\n",
       "</table>\n",
       "<p>5 rows × 22 columns</p>\n",
       "</div>"
      ],
      "text/plain": [
       "  Name             DateTime      OutcomeType AnimalType  AgeuponOutcome  \\\n",
       "0    1  2014-02-12 18:22:00  Return_to_owner          1        1.000000   \n",
       "1    1  2013-10-13 12:44:00       Euthanasia          0        1.000000   \n",
       "2    1  2015-01-31 12:28:00         Adoption          1        2.000000   \n",
       "3    0  2014-07-11 19:09:00         Transfer          0        0.055556   \n",
       "4    0  2013-11-15 12:52:00         Transfer          1        2.000000   \n",
       "\n",
       "                         Breed        Color  Day_of_Week  \\\n",
       "0        Shetland Sheepdog Mix  Brown/White            0   \n",
       "1       Domestic Shorthair Mix  Cream Tabby            1   \n",
       "2                 Pit Bull Mix   Blue/White            1   \n",
       "3       Domestic Shorthair Mix   Blue Cream            0   \n",
       "4  Lhasa Apso/Miniature Poodle          Tan            0   \n",
       "\n",
       "   SexuponOutcome_Intact Female  SexuponOutcome_Intact Male  \\\n",
       "0                             0                           0   \n",
       "1                             0                           0   \n",
       "2                             0                           0   \n",
       "3                             0                           1   \n",
       "4                             0                           0   \n",
       "\n",
       "          ...          SexuponOutcome_Unknown  Hour_0  Hour_12and13  \\\n",
       "0         ...                               0       0             0   \n",
       "1         ...                               0       0             1   \n",
       "2         ...                               0       0             1   \n",
       "3         ...                               0       0             0   \n",
       "4         ...                               0       0             1   \n",
       "\n",
       "   Hour_14and15  Hour_16and19  Hour_17and18  Hour_7and8  Hour_9  \\\n",
       "0             0             0             1           0       0   \n",
       "1             0             0             0           0       0   \n",
       "2             0             0             0           0       0   \n",
       "3             0             1             0           0       0   \n",
       "4             0             0             0           0       0   \n",
       "\n",
       "   Hour_other_time           My_Breeds  \n",
       "0                0               other  \n",
       "1                0  Domestic Shorthair  \n",
       "2                0            Pit Bull  \n",
       "3                0  Domestic Shorthair  \n",
       "4                0    Miniature Poodle  \n",
       "\n",
       "[5 rows x 22 columns]"
      ]
     },
     "execution_count": 16,
     "metadata": {},
     "output_type": "execute_result"
    }
   ],
   "source": [
    "import re\n",
    "def breeds(x):\n",
    "    x = str(x)\n",
    "    breed = \"other\"\n",
    "    for b in my_breeds:\n",
    "        if re.search(b, x):\n",
    "            breed = b\n",
    "    return breed\n",
    "data['My_Breeds'] = data.Breed.apply(breeds) \n",
    "data.head()"
   ]
  },
  {
   "cell_type": "code",
   "execution_count": 17,
   "metadata": {
    "collapsed": false
   },
   "outputs": [
    {
     "data": {
      "text/plain": [
       "20"
      ]
     },
     "execution_count": 17,
     "metadata": {},
     "output_type": "execute_result"
    }
   ],
   "source": [
    "len(data[\"My_Breeds\"].unique())"
   ]
  },
  {
   "cell_type": "code",
   "execution_count": 18,
   "metadata": {
    "collapsed": true
   },
   "outputs": [],
   "source": [
    "breed_dummies = create_dummies(data[\"My_Breeds\"])\n",
    "data = pandas.concat([data, breed_dummies], axis=1)\n",
    "del data[\"My_Breeds\"]\n",
    "del data[\"Breed\"]"
   ]
  },
  {
   "cell_type": "code",
   "execution_count": 19,
   "metadata": {
    "collapsed": false
   },
   "outputs": [
    {
     "name": "stdout",
     "output_type": "stream",
     "text": [
      "['Name', 'DateTime', 'OutcomeType', 'AnimalType', 'AgeuponOutcome', 'Color', 'Day_of_Week', 'SexuponOutcome_Intact Female', 'SexuponOutcome_Intact Male', 'SexuponOutcome_Neutered Male', 'SexuponOutcome_Spayed Female', 'SexuponOutcome_Unknown', 'Hour_0', 'Hour_12and13', 'Hour_14and15', 'Hour_16and19', 'Hour_17and18', 'Hour_7and8', 'Hour_9', 'Hour_other_time', 'My_Breeds_Australian Cattle Dog', 'My_Breeds_Australian Shepherd', 'My_Breeds_Border Collie', 'My_Breeds_Boxer', 'My_Breeds_Bulldog', 'My_Breeds_Catahoula', 'My_Breeds_Chihuahua Shorthair', 'My_Breeds_Dachshund', 'My_Breeds_Domestic Longhair', 'My_Breeds_Domestic Medium Hair', 'My_Breeds_Domestic Shorthair', 'My_Breeds_German Shepherd', 'My_Breeds_Husky', 'My_Breeds_Labrador Retriever', 'My_Breeds_Miniature Poodle', 'My_Breeds_Pit Bull', 'My_Breeds_Rat Terrier', 'My_Breeds_Rottweiler', 'My_Breeds_Siamese', 'My_Breeds_other']\n"
     ]
    }
   ],
   "source": [
    "features = data.columns.tolist() \n",
    "print(features)"
   ]
  },
  {
   "cell_type": "code",
   "execution_count": 20,
   "metadata": {
    "collapsed": false
   },
   "outputs": [],
   "source": [
    "features.remove(\"DateTime\")\n",
    "features.remove(\"OutcomeType\")\n",
    "features.remove(\"Color\")"
   ]
  },
  {
   "cell_type": "code",
   "execution_count": 21,
   "metadata": {
    "collapsed": false
   },
   "outputs": [
    {
     "data": {
      "text/html": [
       "<div>\n",
       "<table border=\"1\" class=\"dataframe\">\n",
       "  <thead>\n",
       "    <tr style=\"text-align: right;\">\n",
       "      <th></th>\n",
       "      <th>Name</th>\n",
       "      <th>DateTime</th>\n",
       "      <th>OutcomeType</th>\n",
       "      <th>AnimalType</th>\n",
       "      <th>AgeuponOutcome</th>\n",
       "      <th>Color</th>\n",
       "      <th>Day_of_Week</th>\n",
       "      <th>SexuponOutcome_Intact Female</th>\n",
       "      <th>SexuponOutcome_Intact Male</th>\n",
       "      <th>SexuponOutcome_Neutered Male</th>\n",
       "      <th>...</th>\n",
       "      <th>My_Breeds_Domestic Shorthair</th>\n",
       "      <th>My_Breeds_German Shepherd</th>\n",
       "      <th>My_Breeds_Husky</th>\n",
       "      <th>My_Breeds_Labrador Retriever</th>\n",
       "      <th>My_Breeds_Miniature Poodle</th>\n",
       "      <th>My_Breeds_Pit Bull</th>\n",
       "      <th>My_Breeds_Rat Terrier</th>\n",
       "      <th>My_Breeds_Rottweiler</th>\n",
       "      <th>My_Breeds_Siamese</th>\n",
       "      <th>My_Breeds_other</th>\n",
       "    </tr>\n",
       "  </thead>\n",
       "  <tbody>\n",
       "    <tr>\n",
       "      <th>11708</th>\n",
       "      <td>1</td>\n",
       "      <td>2013-11-09 14:53:00</td>\n",
       "      <td>Transfer</td>\n",
       "      <td>1</td>\n",
       "      <td>0.333333</td>\n",
       "      <td>Brown/Black</td>\n",
       "      <td>1</td>\n",
       "      <td>1</td>\n",
       "      <td>0</td>\n",
       "      <td>0</td>\n",
       "      <td>...</td>\n",
       "      <td>0</td>\n",
       "      <td>0</td>\n",
       "      <td>0</td>\n",
       "      <td>0</td>\n",
       "      <td>0</td>\n",
       "      <td>0</td>\n",
       "      <td>0</td>\n",
       "      <td>0</td>\n",
       "      <td>0</td>\n",
       "      <td>0</td>\n",
       "    </tr>\n",
       "    <tr>\n",
       "      <th>8184</th>\n",
       "      <td>1</td>\n",
       "      <td>2015-06-29 17:45:00</td>\n",
       "      <td>Adoption</td>\n",
       "      <td>0</td>\n",
       "      <td>0.166667</td>\n",
       "      <td>Brown Tabby</td>\n",
       "      <td>0</td>\n",
       "      <td>0</td>\n",
       "      <td>0</td>\n",
       "      <td>0</td>\n",
       "      <td>...</td>\n",
       "      <td>0</td>\n",
       "      <td>0</td>\n",
       "      <td>0</td>\n",
       "      <td>0</td>\n",
       "      <td>0</td>\n",
       "      <td>0</td>\n",
       "      <td>0</td>\n",
       "      <td>0</td>\n",
       "      <td>0</td>\n",
       "      <td>0</td>\n",
       "    </tr>\n",
       "    <tr>\n",
       "      <th>19876</th>\n",
       "      <td>1</td>\n",
       "      <td>2014-03-16 15:29:00</td>\n",
       "      <td>Adoption</td>\n",
       "      <td>1</td>\n",
       "      <td>0.416667</td>\n",
       "      <td>White/Black</td>\n",
       "      <td>1</td>\n",
       "      <td>0</td>\n",
       "      <td>0</td>\n",
       "      <td>1</td>\n",
       "      <td>...</td>\n",
       "      <td>0</td>\n",
       "      <td>0</td>\n",
       "      <td>0</td>\n",
       "      <td>0</td>\n",
       "      <td>0</td>\n",
       "      <td>0</td>\n",
       "      <td>0</td>\n",
       "      <td>0</td>\n",
       "      <td>0</td>\n",
       "      <td>0</td>\n",
       "    </tr>\n",
       "    <tr>\n",
       "      <th>13784</th>\n",
       "      <td>0</td>\n",
       "      <td>2014-12-27 12:12:00</td>\n",
       "      <td>Transfer</td>\n",
       "      <td>1</td>\n",
       "      <td>0.005479</td>\n",
       "      <td>Chocolate/White</td>\n",
       "      <td>1</td>\n",
       "      <td>1</td>\n",
       "      <td>0</td>\n",
       "      <td>0</td>\n",
       "      <td>...</td>\n",
       "      <td>0</td>\n",
       "      <td>0</td>\n",
       "      <td>0</td>\n",
       "      <td>0</td>\n",
       "      <td>0</td>\n",
       "      <td>1</td>\n",
       "      <td>0</td>\n",
       "      <td>0</td>\n",
       "      <td>0</td>\n",
       "      <td>0</td>\n",
       "    </tr>\n",
       "    <tr>\n",
       "      <th>16277</th>\n",
       "      <td>0</td>\n",
       "      <td>2014-03-17 13:34:00</td>\n",
       "      <td>Return_to_owner</td>\n",
       "      <td>1</td>\n",
       "      <td>1.000000</td>\n",
       "      <td>White/Brown Brindle</td>\n",
       "      <td>0</td>\n",
       "      <td>0</td>\n",
       "      <td>1</td>\n",
       "      <td>0</td>\n",
       "      <td>...</td>\n",
       "      <td>0</td>\n",
       "      <td>0</td>\n",
       "      <td>0</td>\n",
       "      <td>0</td>\n",
       "      <td>0</td>\n",
       "      <td>1</td>\n",
       "      <td>0</td>\n",
       "      <td>0</td>\n",
       "      <td>0</td>\n",
       "      <td>0</td>\n",
       "    </tr>\n",
       "  </tbody>\n",
       "</table>\n",
       "<p>5 rows × 40 columns</p>\n",
       "</div>"
      ],
      "text/plain": [
       "      Name             DateTime      OutcomeType AnimalType  AgeuponOutcome  \\\n",
       "11708    1  2013-11-09 14:53:00         Transfer          1        0.333333   \n",
       "8184     1  2015-06-29 17:45:00         Adoption          0        0.166667   \n",
       "19876    1  2014-03-16 15:29:00         Adoption          1        0.416667   \n",
       "13784    0  2014-12-27 12:12:00         Transfer          1        0.005479   \n",
       "16277    0  2014-03-17 13:34:00  Return_to_owner          1        1.000000   \n",
       "\n",
       "                     Color  Day_of_Week  SexuponOutcome_Intact Female  \\\n",
       "11708          Brown/Black            1                             1   \n",
       "8184           Brown Tabby            0                             0   \n",
       "19876          White/Black            1                             0   \n",
       "13784      Chocolate/White            1                             1   \n",
       "16277  White/Brown Brindle            0                             0   \n",
       "\n",
       "       SexuponOutcome_Intact Male  SexuponOutcome_Neutered Male  \\\n",
       "11708                           0                             0   \n",
       "8184                            0                             0   \n",
       "19876                           0                             1   \n",
       "13784                           0                             0   \n",
       "16277                           1                             0   \n",
       "\n",
       "            ...         My_Breeds_Domestic Shorthair  \\\n",
       "11708       ...                                    0   \n",
       "8184        ...                                    0   \n",
       "19876       ...                                    0   \n",
       "13784       ...                                    0   \n",
       "16277       ...                                    0   \n",
       "\n",
       "       My_Breeds_German Shepherd  My_Breeds_Husky  \\\n",
       "11708                          0                0   \n",
       "8184                           0                0   \n",
       "19876                          0                0   \n",
       "13784                          0                0   \n",
       "16277                          0                0   \n",
       "\n",
       "       My_Breeds_Labrador Retriever  My_Breeds_Miniature Poodle  \\\n",
       "11708                             0                           0   \n",
       "8184                              0                           0   \n",
       "19876                             0                           0   \n",
       "13784                             0                           0   \n",
       "16277                             0                           0   \n",
       "\n",
       "       My_Breeds_Pit Bull  My_Breeds_Rat Terrier  My_Breeds_Rottweiler  \\\n",
       "11708                   0                      0                     0   \n",
       "8184                    0                      0                     0   \n",
       "19876                   0                      0                     0   \n",
       "13784                   1                      0                     0   \n",
       "16277                   1                      0                     0   \n",
       "\n",
       "       My_Breeds_Siamese  My_Breeds_other  \n",
       "11708                  0                0  \n",
       "8184                   0                0  \n",
       "19876                  0                0  \n",
       "13784                  0                0  \n",
       "16277                  0                0  \n",
       "\n",
       "[5 rows x 40 columns]"
      ]
     },
     "execution_count": 21,
     "metadata": {},
     "output_type": "execute_result"
    }
   ],
   "source": [
    "import numpy as np\n",
    "# shuffle data\n",
    "shuffled_rows = np.random.permutation(data.index)\n",
    "\n",
    "# Select 70% of the dataset to be training data\n",
    "highest_train_row = int(data.shape[0] * .70)\n",
    "train = data.loc[shuffled_rows[:highest_train_row], :]\n",
    "\n",
    "# Select 30% of the dataset to be test data\n",
    "my_test = data.loc[shuffled_rows[highest_train_row:], :]\n",
    "\n",
    "train.head()"
   ]
  },
  {
   "cell_type": "code",
   "execution_count": 28,
   "metadata": {
    "collapsed": false
   },
   "outputs": [
    {
     "data": {
      "text/plain": [
       "LogisticRegression(C=1.0, class_weight=None, dual=False, fit_intercept=True,\n",
       "          intercept_scaling=1, max_iter=100, multi_class='ovr', n_jobs=1,\n",
       "          penalty='l2', random_state=1, solver='liblinear', tol=0.0001,\n",
       "          verbose=0, warm_start=False)"
      ]
     },
     "execution_count": 28,
     "metadata": {},
     "output_type": "execute_result"
    }
   ],
   "source": [
    "from sklearn import linear_model\n",
    "\n",
    "alg = linear_model.LogisticRegression(random_state=1)\n",
    "alg.fit(train[features], train[\"OutcomeType\"])"
   ]
  },
  {
   "cell_type": "code",
   "execution_count": 29,
   "metadata": {
    "collapsed": true
   },
   "outputs": [],
   "source": [
    "probs = alg.predict_proba(my_test[features])"
   ]
  },
  {
   "cell_type": "code",
   "execution_count": 30,
   "metadata": {
    "collapsed": false
   },
   "outputs": [
    {
     "name": "stdout",
     "output_type": "stream",
     "text": [
      "0.864507646155\n"
     ]
    }
   ],
   "source": [
    "from sklearn import metrics\n",
    "score = metrics.log_loss(my_test[\"OutcomeType\"], probs)\n",
    "print(score)"
   ]
  },
  {
   "cell_type": "code",
   "execution_count": 114,
   "metadata": {
    "collapsed": false
   },
   "outputs": [
    {
     "name": "stdout",
     "output_type": "stream",
     "text": [
      "3.7471760858\n"
     ]
    }
   ],
   "source": [
    "from sklearn.ensemble import RandomForestClassifier\n",
    "alg2 = RandomForestClassifier()\n",
    "alg2.fit(train[features], train[\"OutcomeType\"])\n",
    "probs = alg2.predict_proba(my_test[features])\n",
    "score = metrics.log_loss(my_test[\"OutcomeType\"], probs)\n",
    "print(score)"
   ]
  },
  {
   "cell_type": "code",
   "execution_count": 115,
   "metadata": {
    "collapsed": false
   },
   "outputs": [
    {
     "name": "stdout",
     "output_type": "stream",
     "text": [
      "0.866012083808\n"
     ]
    }
   ],
   "source": [
    "from sklearn.calibration import CalibratedClassifierCV\n",
    "alg7 = CalibratedClassifierCV()\n",
    "alg7.fit(train[features], train[\"OutcomeType\"])\n",
    "probs = alg7.predict_proba(my_test[features])\n",
    "score = metrics.log_loss(my_test[\"OutcomeType\"], probs)\n",
    "print(score)"
   ]
  },
  {
   "cell_type": "code",
   "execution_count": 116,
   "metadata": {
    "collapsed": false
   },
   "outputs": [
    {
     "name": "stdout",
     "output_type": "stream",
     "text": [
      "7.82956960519\n"
     ]
    }
   ],
   "source": [
    "from sklearn.tree import DecisionTreeClassifier\n",
    "alg6 = DecisionTreeClassifier()\n",
    "alg6.fit(train[features], train[\"OutcomeType\"])\n",
    "probs = alg6.predict_proba(my_test[features])\n",
    "score = metrics.log_loss(my_test[\"OutcomeType\"], probs)\n",
    "print(score)"
   ]
  },
  {
   "cell_type": "code",
   "execution_count": 117,
   "metadata": {
    "collapsed": false
   },
   "outputs": [
    {
     "name": "stdout",
     "output_type": "stream",
     "text": [
      "1.54229076685\n"
     ]
    }
   ],
   "source": [
    "from sklearn.ensemble import AdaBoostClassifier\n",
    "alg4 =AdaBoostClassifier()\n",
    "alg4.fit(train[features], train[\"OutcomeType\"])\n",
    "probs = alg4.predict_proba(my_test[features])\n",
    "score = metrics.log_loss(my_test[\"OutcomeType\"], probs)\n",
    "print(score)"
   ]
  },
  {
   "cell_type": "code",
   "execution_count": 118,
   "metadata": {
    "collapsed": false
   },
   "outputs": [
    {
     "name": "stdout",
     "output_type": "stream",
     "text": [
      "0.857695846071\n"
     ]
    }
   ],
   "source": [
    "from sklearn import svm\n",
    "alg8 = svm.SVC(probability=True)\n",
    "alg8.fit(train[features], train[\"OutcomeType\"])\n",
    "probs = alg8.predict_proba(my_test[features])\n",
    "score = metrics.log_loss(my_test[\"OutcomeType\"], probs)\n",
    "print(score)"
   ]
  },
  {
   "cell_type": "code",
   "execution_count": 64,
   "metadata": {
    "collapsed": false,
    "scrolled": true
   },
   "outputs": [
    {
     "name": "stdout",
     "output_type": "stream",
     "text": [
      "0.841768000562\n"
     ]
    }
   ],
   "source": [
    "from sklearn.ensemble import VotingClassifier\n",
    "eclf = VotingClassifier(estimators=[('lr', alg), ('svm', alg8)], voting='soft')\n",
    "eclf.fit(train[features], train[\"OutcomeType\"])\n",
    "probs = eclf.predict_proba(my_test[features])\n",
    "score = metrics.log_loss(my_test[\"OutcomeType\"], probs)\n",
    "print(score)"
   ]
  },
  {
   "cell_type": "code",
   "execution_count": 65,
   "metadata": {
    "collapsed": false
   },
   "outputs": [
    {
     "name": "stdout",
     "output_type": "stream",
     "text": [
      "0.857304611749\n"
     ]
    }
   ],
   "source": [
    "eclf1 = VotingClassifier(estimators=[('lr', alg), ('calC', alg7)], voting='soft')\n",
    "eclf1.fit(train[features], train[\"OutcomeType\"])\n",
    "probs = eclf1.predict_proba(my_test[features])\n",
    "score = metrics.log_loss(my_test[\"OutcomeType\"], probs)\n",
    "print(score)"
   ]
  },
  {
   "cell_type": "code",
   "execution_count": 31,
   "metadata": {
    "collapsed": false
   },
   "outputs": [
    {
     "name": "stdout",
     "output_type": "stream",
     "text": [
      "0.853139717405\n"
     ]
    }
   ],
   "source": [
    "from sklearn.ensemble import GradientBoostingClassifier\n",
    "alg9 = GradientBoostingClassifier(random_state=1, n_estimators=25, max_depth=3)\n",
    "alg9.fit(train[features], train[\"OutcomeType\"])\n",
    "probs = alg9.predict_proba(my_test[features])\n",
    "score = metrics.log_loss(my_test[\"OutcomeType\"], probs)\n",
    "print(score)"
   ]
  },
  {
   "cell_type": "code",
   "execution_count": 81,
   "metadata": {
    "collapsed": false
   },
   "outputs": [
    {
     "name": "stdout",
     "output_type": "stream",
     "text": [
      "0.833464705813\n"
     ]
    }
   ],
   "source": [
    "eclf2 = VotingClassifier(estimators=[('lr', alg), ('svm', alg8), (\"GBC\", alg9)], voting='soft')\n",
    "eclf2.fit(train[features], train[\"OutcomeType\"])\n",
    "probs = eclf2.predict_proba(my_test[features])\n",
    "score = metrics.log_loss(my_test[\"OutcomeType\"], probs)\n",
    "print(score)"
   ]
  },
  {
   "cell_type": "markdown",
   "metadata": {},
   "source": [
    "Not bad. Now let's create a prediction for text.csv and submit it for Kagle competition. "
   ]
  },
  {
   "cell_type": "code",
   "execution_count": 82,
   "metadata": {
    "collapsed": false
   },
   "outputs": [
    {
     "name": "stdout",
     "output_type": "stream",
     "text": [
      "0.83638876405\n"
     ]
    }
   ],
   "source": [
    "eclf3 = VotingClassifier(estimators=[('lr', alg), (\"GBC\", alg9)], voting='soft')\n",
    "eclf3.fit(train[features], train[\"OutcomeType\"])\n",
    "probs = eclf3.predict_proba(my_test[features])\n",
    "score = metrics.log_loss(my_test[\"OutcomeType\"], probs)\n",
    "print(score)"
   ]
  },
  {
   "cell_type": "code",
   "execution_count": 83,
   "metadata": {
    "collapsed": false
   },
   "outputs": [
    {
     "name": "stdout",
     "output_type": "stream",
     "text": [
      "0.835701058263\n"
     ]
    }
   ],
   "source": [
    "eclf4 = VotingClassifier(estimators=[('svm', alg8), (\"GBC\", alg9)], voting='soft')\n",
    "eclf4.fit(train[features], train[\"OutcomeType\"])\n",
    "probs = eclf4.predict_proba(my_test[features])\n",
    "score = metrics.log_loss(my_test[\"OutcomeType\"], probs)\n",
    "print(score)"
   ]
  },
  {
   "cell_type": "code",
   "execution_count": 34,
   "metadata": {
    "collapsed": false
   },
   "outputs": [],
   "source": [
    "test = pandas.read_csv(\"test.csv\")\n",
    "test['AnimalType'] =test['AnimalType'].fillna(\"Dog\")\n",
    "test['Breed'] =test['Breed'].fillna(\"Mix\")\n",
    "test['SexuponOutcome'] =test['SexuponOutcome'].fillna(\"Neutered Male\")\n",
    "test['Name'] =test['Name'].fillna(0)\n",
    "test.loc[test['Name'] != 0, \"Name\"] = 1\n",
    "test.loc[test[\"AnimalType\"]== \"Dog\", \"AnimalType\"] = 1\n",
    "test.loc[test[\"AnimalType\"]!= 1, \"AnimalType\"] = 0\n",
    "test['Hour'] = test.DateTime.map( lambda x: pandas.to_datetime(x).hour )\n",
    "test['Day_of_Week'] = test.DateTime.map( lambda x: pandas.to_datetime(x).dayofweek )\n",
    "test.loc[test[\"Day_of_Week\"]== 5, \"Day_of_Week\"] = 10\n",
    "test.loc[test[\"Day_of_Week\"]== 6, \"Day_of_Week\"] = 10\n",
    "test.loc[test[\"Day_of_Week\"]!= 10, \"Day_of_Week\"] = 0\n",
    "test.loc[test[\"Day_of_Week\"]== 10, \"Day_of_Week\"] = 1\n",
    "test['Hour'] = test.Hour.apply(day)\n",
    "test['AgeuponOutcome'] = test.AgeuponOutcome.apply(age_as_float)\n",
    "test.loc[test['AgeuponOutcome']== 0, \"AgeuponOutcome\"] = test['AgeuponOutcome'].median()\n",
    "sex_dummies = create_dummies(test[\"SexuponOutcome\"])\n",
    "test = pandas.concat([test, sex_dummies], axis=1)\n",
    "del test[\"SexuponOutcome\"]\n",
    "hour = create_dummies(test[\"Hour\"])\n",
    "test = pandas.concat([test, hour], axis=1)\n",
    "del test[\"Hour\"]\n",
    "test['My_Breeds'] = test.Breed.apply(breeds)\n",
    "breed_dummies = create_dummies(test[\"My_Breeds\"])\n",
    "test = pandas.concat([test, breed_dummies], axis=1)\n",
    "del test[\"My_Breeds\"]\n",
    "del test[\"Breed\"]"
   ]
  },
  {
   "cell_type": "code",
   "execution_count": 35,
   "metadata": {
    "collapsed": false
   },
   "outputs": [
    {
     "data": {
      "text/html": [
       "<div>\n",
       "<table border=\"1\" class=\"dataframe\">\n",
       "  <thead>\n",
       "    <tr style=\"text-align: right;\">\n",
       "      <th></th>\n",
       "      <th>Adoption</th>\n",
       "      <th>Died</th>\n",
       "      <th>Euthanasia</th>\n",
       "      <th>Return_to_owner</th>\n",
       "      <th>Transfer</th>\n",
       "    </tr>\n",
       "  </thead>\n",
       "  <tbody>\n",
       "    <tr>\n",
       "      <th>0</th>\n",
       "      <td>0.066582</td>\n",
       "      <td>0.012452</td>\n",
       "      <td>0.054471</td>\n",
       "      <td>0.185165</td>\n",
       "      <td>0.681330</td>\n",
       "    </tr>\n",
       "    <tr>\n",
       "      <th>1</th>\n",
       "      <td>0.636766</td>\n",
       "      <td>0.006342</td>\n",
       "      <td>0.024703</td>\n",
       "      <td>0.274385</td>\n",
       "      <td>0.057805</td>\n",
       "    </tr>\n",
       "    <tr>\n",
       "      <th>2</th>\n",
       "      <td>0.470630</td>\n",
       "      <td>0.011337</td>\n",
       "      <td>0.029371</td>\n",
       "      <td>0.085998</td>\n",
       "      <td>0.402664</td>\n",
       "    </tr>\n",
       "    <tr>\n",
       "      <th>3</th>\n",
       "      <td>0.201900</td>\n",
       "      <td>0.024200</td>\n",
       "      <td>0.057502</td>\n",
       "      <td>0.326583</td>\n",
       "      <td>0.389815</td>\n",
       "    </tr>\n",
       "    <tr>\n",
       "      <th>4</th>\n",
       "      <td>0.550867</td>\n",
       "      <td>0.008047</td>\n",
       "      <td>0.023805</td>\n",
       "      <td>0.323337</td>\n",
       "      <td>0.093944</td>\n",
       "    </tr>\n",
       "  </tbody>\n",
       "</table>\n",
       "</div>"
      ],
      "text/plain": [
       "   Adoption      Died  Euthanasia  Return_to_owner  Transfer\n",
       "0  0.066582  0.012452    0.054471         0.185165  0.681330\n",
       "1  0.636766  0.006342    0.024703         0.274385  0.057805\n",
       "2  0.470630  0.011337    0.029371         0.085998  0.402664\n",
       "3  0.201900  0.024200    0.057502         0.326583  0.389815\n",
       "4  0.550867  0.008047    0.023805         0.323337  0.093944"
      ]
     },
     "execution_count": 35,
     "metadata": {},
     "output_type": "execute_result"
    }
   ],
   "source": [
    "result = pandas.DataFrame(eclf5.predict_proba(test[features]), index=test.index, columns=alg.classes_)\n",
    "result.head()"
   ]
  },
  {
   "cell_type": "code",
   "execution_count": 36,
   "metadata": {
    "collapsed": false
   },
   "outputs": [
    {
     "data": {
      "text/html": [
       "<div>\n",
       "<table border=\"1\" class=\"dataframe\">\n",
       "  <thead>\n",
       "    <tr style=\"text-align: right;\">\n",
       "      <th></th>\n",
       "      <th>ID</th>\n",
       "      <th>Adoption</th>\n",
       "      <th>Died</th>\n",
       "      <th>Euthanasia</th>\n",
       "      <th>Return_to_owner</th>\n",
       "      <th>Transfer</th>\n",
       "    </tr>\n",
       "  </thead>\n",
       "  <tbody>\n",
       "    <tr>\n",
       "      <th>0</th>\n",
       "      <td>1</td>\n",
       "      <td>1</td>\n",
       "      <td>0</td>\n",
       "      <td>0</td>\n",
       "      <td>0</td>\n",
       "      <td>0</td>\n",
       "    </tr>\n",
       "    <tr>\n",
       "      <th>1</th>\n",
       "      <td>2</td>\n",
       "      <td>1</td>\n",
       "      <td>0</td>\n",
       "      <td>0</td>\n",
       "      <td>0</td>\n",
       "      <td>0</td>\n",
       "    </tr>\n",
       "    <tr>\n",
       "      <th>2</th>\n",
       "      <td>3</td>\n",
       "      <td>1</td>\n",
       "      <td>0</td>\n",
       "      <td>0</td>\n",
       "      <td>0</td>\n",
       "      <td>0</td>\n",
       "    </tr>\n",
       "    <tr>\n",
       "      <th>3</th>\n",
       "      <td>4</td>\n",
       "      <td>1</td>\n",
       "      <td>0</td>\n",
       "      <td>0</td>\n",
       "      <td>0</td>\n",
       "      <td>0</td>\n",
       "    </tr>\n",
       "    <tr>\n",
       "      <th>4</th>\n",
       "      <td>5</td>\n",
       "      <td>1</td>\n",
       "      <td>0</td>\n",
       "      <td>0</td>\n",
       "      <td>0</td>\n",
       "      <td>0</td>\n",
       "    </tr>\n",
       "  </tbody>\n",
       "</table>\n",
       "</div>"
      ],
      "text/plain": [
       "   ID  Adoption  Died  Euthanasia  Return_to_owner  Transfer\n",
       "0   1         1     0           0                0         0\n",
       "1   2         1     0           0                0         0\n",
       "2   3         1     0           0                0         0\n",
       "3   4         1     0           0                0         0\n",
       "4   5         1     0           0                0         0"
      ]
     },
     "execution_count": 36,
     "metadata": {},
     "output_type": "execute_result"
    }
   ],
   "source": [
    "sample_submission = pandas.read_csv(\"sample_submission.csv\")\n",
    "sample_submission.head()"
   ]
  },
  {
   "cell_type": "code",
   "execution_count": 37,
   "metadata": {
    "collapsed": false
   },
   "outputs": [
    {
     "data": {
      "text/html": [
       "<div>\n",
       "<table border=\"1\" class=\"dataframe\">\n",
       "  <thead>\n",
       "    <tr style=\"text-align: right;\">\n",
       "      <th></th>\n",
       "      <th>ID</th>\n",
       "      <th>Adoption</th>\n",
       "      <th>Died</th>\n",
       "      <th>Euthanasia</th>\n",
       "      <th>Return_to_owner</th>\n",
       "      <th>Transfer</th>\n",
       "    </tr>\n",
       "  </thead>\n",
       "  <tbody>\n",
       "    <tr>\n",
       "      <th>0</th>\n",
       "      <td>1</td>\n",
       "      <td>0.066582</td>\n",
       "      <td>0.012452</td>\n",
       "      <td>0.054471</td>\n",
       "      <td>0.185165</td>\n",
       "      <td>0.681330</td>\n",
       "    </tr>\n",
       "    <tr>\n",
       "      <th>1</th>\n",
       "      <td>2</td>\n",
       "      <td>0.636766</td>\n",
       "      <td>0.006342</td>\n",
       "      <td>0.024703</td>\n",
       "      <td>0.274385</td>\n",
       "      <td>0.057805</td>\n",
       "    </tr>\n",
       "    <tr>\n",
       "      <th>2</th>\n",
       "      <td>3</td>\n",
       "      <td>0.470630</td>\n",
       "      <td>0.011337</td>\n",
       "      <td>0.029371</td>\n",
       "      <td>0.085998</td>\n",
       "      <td>0.402664</td>\n",
       "    </tr>\n",
       "    <tr>\n",
       "      <th>3</th>\n",
       "      <td>4</td>\n",
       "      <td>0.201900</td>\n",
       "      <td>0.024200</td>\n",
       "      <td>0.057502</td>\n",
       "      <td>0.326583</td>\n",
       "      <td>0.389815</td>\n",
       "    </tr>\n",
       "    <tr>\n",
       "      <th>4</th>\n",
       "      <td>5</td>\n",
       "      <td>0.550867</td>\n",
       "      <td>0.008047</td>\n",
       "      <td>0.023805</td>\n",
       "      <td>0.323337</td>\n",
       "      <td>0.093944</td>\n",
       "    </tr>\n",
       "  </tbody>\n",
       "</table>\n",
       "</div>"
      ],
      "text/plain": [
       "   ID  Adoption      Died  Euthanasia  Return_to_owner  Transfer\n",
       "0   1  0.066582  0.012452    0.054471         0.185165  0.681330\n",
       "1   2  0.636766  0.006342    0.024703         0.274385  0.057805\n",
       "2   3  0.470630  0.011337    0.029371         0.085998  0.402664\n",
       "3   4  0.201900  0.024200    0.057502         0.326583  0.389815\n",
       "4   5  0.550867  0.008047    0.023805         0.323337  0.093944"
      ]
     },
     "execution_count": 37,
     "metadata": {},
     "output_type": "execute_result"
    }
   ],
   "source": [
    "mid = sample_submission['ID']\n",
    "result.insert(0, 'ID', mid)\n",
    "result.head()"
   ]
  },
  {
   "cell_type": "code",
   "execution_count": 38,
   "metadata": {
    "collapsed": true
   },
   "outputs": [],
   "source": [
    "result.to_csv(\"etcareva12.csv\", index=False)"
   ]
  },
  {
   "cell_type": "markdown",
   "metadata": {},
   "source": [
    "Using VotingClassifier with Logistic Regression, SVM, and GradientBoostingClassifier I got 0.83097 score after submission and moved up by 183 positions on the leaderboard. The scores of other participants are between 0.45 and 29.00. \n",
    "\n",
    "Now I am going to try SVM with diferent parametrs."
   ]
  },
  {
   "cell_type": "code",
   "execution_count": 25,
   "metadata": {
    "collapsed": false
   },
   "outputs": [
    {
     "data": {
      "text/plain": [
       "GridSearchCV(cv=None, error_score='raise',\n",
       "       estimator=SVC(C=1.0, cache_size=200, class_weight=None, coef0=0.0,\n",
       "  decision_function_shape=None, degree=3, gamma='auto', kernel='rbf',\n",
       "  max_iter=-1, probability=True, random_state=None, shrinking=True,\n",
       "  tol=0.001, verbose=False),\n",
       "       fit_params={}, iid=True, n_jobs=1,\n",
       "       param_grid={'C': [0.001, 0.01, 0.1, 1, 10], 'kernel': ('linear', 'rbf')},\n",
       "       pre_dispatch='2*n_jobs', refit=True, scoring=None, verbose=0)"
      ]
     },
     "execution_count": 25,
     "metadata": {},
     "output_type": "execute_result"
    }
   ],
   "source": [
    "from sklearn import svm, grid_search\n",
    "parameters = {'kernel':('linear', 'rbf'), 'C':[0.001, 0.01, 0.1, 1, 10]}\n",
    "svr = svm.SVC(probability=True)\n",
    "clf = grid_search.GridSearchCV(svr, parameters)\n",
    "clf.fit(train[features], train[\"OutcomeType\"])"
   ]
  },
  {
   "cell_type": "code",
   "execution_count": 26,
   "metadata": {
    "collapsed": false
   },
   "outputs": [
    {
     "name": "stdout",
     "output_type": "stream",
     "text": [
      "0.849973275154\n"
     ]
    }
   ],
   "source": [
    "probs = clf.predict_proba(my_test[features])\n",
    "score = metrics.log_loss(my_test[\"OutcomeType\"], probs)\n",
    "print(score)"
   ]
  },
  {
   "cell_type": "markdown",
   "metadata": {},
   "source": [
    "We had 0.857695846071 from svm before CridSearch."
   ]
  },
  {
   "cell_type": "code",
   "execution_count": 32,
   "metadata": {
    "collapsed": false
   },
   "outputs": [
    {
     "name": "stdout",
     "output_type": "stream",
     "text": [
      "0.834360039446\n"
     ]
    }
   ],
   "source": [
    "from sklearn.ensemble import VotingClassifier\n",
    "eclf5 = VotingClassifier(estimators=[('lr', alg), ('svm_gs', clf), (\"GBC\", alg9)], voting='soft')\n",
    "eclf5.fit(train[features], train[\"OutcomeType\"])\n",
    "probs = eclf5.predict_proba(my_test[features])\n",
    "score = metrics.log_loss(my_test[\"OutcomeType\"], probs)\n",
    "print(score)"
   ]
  },
  {
   "cell_type": "markdown",
   "metadata": {},
   "source": [
    "I got 0.82418 after submission and moved 23 position up on the leaderboard."
   ]
  },
  {
   "cell_type": "markdown",
   "metadata": {},
   "source": [
    "## Conclusion"
   ]
  },
  {
   "cell_type": "markdown",
   "metadata": {},
   "source": [
    "I used multi class logistic regression for this project and got log_loss 0.92871. I also did some useful observations.\n",
    "1. Neutered Male and Spayed Female have a great chance to be adopted, but it is very hard to find new family for Intact Male and Intact Female!\n",
    "2. It is important for an animal to have an ID tag (I think that the shelter staff learned the names from the tags. The animals with unknown names have almost no chance to return to owners and have less chance to be adopted."
   ]
  },
  {
   "cell_type": "code",
   "execution_count": null,
   "metadata": {
    "collapsed": true
   },
   "outputs": [],
   "source": []
  }
 ],
 "metadata": {
  "anaconda-cloud": {},
  "kernelspec": {
   "display_name": "Python [default]",
   "language": "python",
   "name": "python3"
  },
  "language_info": {
   "codemirror_mode": {
    "name": "ipython",
    "version": 3
   },
   "file_extension": ".py",
   "mimetype": "text/x-python",
   "name": "python",
   "nbconvert_exporter": "python",
   "pygments_lexer": "ipython3",
   "version": "3.5.2"
  }
 },
 "nbformat": 4,
 "nbformat_minor": 0
}
